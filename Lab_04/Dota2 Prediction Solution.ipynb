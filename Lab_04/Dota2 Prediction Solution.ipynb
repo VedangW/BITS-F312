{
 "cells": [
  {
   "cell_type": "code",
   "execution_count": 1,
   "metadata": {},
   "outputs": [],
   "source": [
    "import pandas as pd\n",
    "import numpy as np"
   ]
  },
  {
   "cell_type": "code",
   "execution_count": 2,
   "metadata": {},
   "outputs": [],
   "source": [
    "trainData = pd.read_csv('train.csv')\n",
    "testData = pd.read_csv('test.csv')"
   ]
  },
  {
   "cell_type": "code",
   "execution_count": 3,
   "metadata": {},
   "outputs": [
    {
     "data": {
      "text/html": [
       "<div>\n",
       "<style scoped>\n",
       "    .dataframe tbody tr th:only-of-type {\n",
       "        vertical-align: middle;\n",
       "    }\n",
       "\n",
       "    .dataframe tbody tr th {\n",
       "        vertical-align: top;\n",
       "    }\n",
       "\n",
       "    .dataframe thead th {\n",
       "        text-align: right;\n",
       "    }\n",
       "</style>\n",
       "<table border=\"1\" class=\"dataframe\">\n",
       "  <thead>\n",
       "    <tr style=\"text-align: right;\">\n",
       "      <th></th>\n",
       "      <th>Won</th>\n",
       "      <th>Cluster ID</th>\n",
       "      <th>Game Mode</th>\n",
       "      <th>Game Type</th>\n",
       "      <th>Hero 1</th>\n",
       "      <th>Hero 2</th>\n",
       "      <th>Hero 3</th>\n",
       "      <th>Hero 4</th>\n",
       "      <th>Hero 5</th>\n",
       "      <th>Hero 6</th>\n",
       "      <th>...</th>\n",
       "      <th>Hero 105</th>\n",
       "      <th>Hero 106</th>\n",
       "      <th>Hero 107</th>\n",
       "      <th>Hero 108</th>\n",
       "      <th>Hero 109</th>\n",
       "      <th>Hero 110</th>\n",
       "      <th>Hero 111</th>\n",
       "      <th>Hero 112</th>\n",
       "      <th>Hero 113</th>\n",
       "      <th>Game ID</th>\n",
       "    </tr>\n",
       "  </thead>\n",
       "  <tbody>\n",
       "    <tr>\n",
       "      <th>0</th>\n",
       "      <td>0</td>\n",
       "      <td>223</td>\n",
       "      <td>2.0</td>\n",
       "      <td>2</td>\n",
       "      <td>0</td>\n",
       "      <td>0</td>\n",
       "      <td>0</td>\n",
       "      <td>0</td>\n",
       "      <td>0</td>\n",
       "      <td>0</td>\n",
       "      <td>...</td>\n",
       "      <td>0</td>\n",
       "      <td>0</td>\n",
       "      <td>0</td>\n",
       "      <td>0</td>\n",
       "      <td>0</td>\n",
       "      <td>0</td>\n",
       "      <td>0</td>\n",
       "      <td>0</td>\n",
       "      <td>0</td>\n",
       "      <td>0</td>\n",
       "    </tr>\n",
       "    <tr>\n",
       "      <th>1</th>\n",
       "      <td>1</td>\n",
       "      <td>152</td>\n",
       "      <td>2.0</td>\n",
       "      <td>2</td>\n",
       "      <td>0</td>\n",
       "      <td>0</td>\n",
       "      <td>0</td>\n",
       "      <td>1</td>\n",
       "      <td>0</td>\n",
       "      <td>-1</td>\n",
       "      <td>...</td>\n",
       "      <td>0</td>\n",
       "      <td>0</td>\n",
       "      <td>0</td>\n",
       "      <td>0</td>\n",
       "      <td>0</td>\n",
       "      <td>0</td>\n",
       "      <td>0</td>\n",
       "      <td>0</td>\n",
       "      <td>0</td>\n",
       "      <td>1</td>\n",
       "    </tr>\n",
       "    <tr>\n",
       "      <th>2</th>\n",
       "      <td>1</td>\n",
       "      <td>131</td>\n",
       "      <td>2.0</td>\n",
       "      <td>2</td>\n",
       "      <td>0</td>\n",
       "      <td>0</td>\n",
       "      <td>0</td>\n",
       "      <td>1</td>\n",
       "      <td>0</td>\n",
       "      <td>-1</td>\n",
       "      <td>...</td>\n",
       "      <td>0</td>\n",
       "      <td>0</td>\n",
       "      <td>0</td>\n",
       "      <td>0</td>\n",
       "      <td>0</td>\n",
       "      <td>0</td>\n",
       "      <td>0</td>\n",
       "      <td>0</td>\n",
       "      <td>0</td>\n",
       "      <td>2</td>\n",
       "    </tr>\n",
       "    <tr>\n",
       "      <th>3</th>\n",
       "      <td>1</td>\n",
       "      <td>154</td>\n",
       "      <td>2.0</td>\n",
       "      <td>2</td>\n",
       "      <td>0</td>\n",
       "      <td>0</td>\n",
       "      <td>0</td>\n",
       "      <td>0</td>\n",
       "      <td>0</td>\n",
       "      <td>0</td>\n",
       "      <td>...</td>\n",
       "      <td>0</td>\n",
       "      <td>0</td>\n",
       "      <td>0</td>\n",
       "      <td>0</td>\n",
       "      <td>0</td>\n",
       "      <td>0</td>\n",
       "      <td>0</td>\n",
       "      <td>0</td>\n",
       "      <td>0</td>\n",
       "      <td>3</td>\n",
       "    </tr>\n",
       "    <tr>\n",
       "      <th>4</th>\n",
       "      <td>0</td>\n",
       "      <td>171</td>\n",
       "      <td>2.0</td>\n",
       "      <td>3</td>\n",
       "      <td>0</td>\n",
       "      <td>0</td>\n",
       "      <td>0</td>\n",
       "      <td>0</td>\n",
       "      <td>0</td>\n",
       "      <td>-1</td>\n",
       "      <td>...</td>\n",
       "      <td>0</td>\n",
       "      <td>0</td>\n",
       "      <td>0</td>\n",
       "      <td>0</td>\n",
       "      <td>0</td>\n",
       "      <td>0</td>\n",
       "      <td>0</td>\n",
       "      <td>0</td>\n",
       "      <td>0</td>\n",
       "      <td>4</td>\n",
       "    </tr>\n",
       "  </tbody>\n",
       "</table>\n",
       "<p>5 rows × 118 columns</p>\n",
       "</div>"
      ],
      "text/plain": [
       "   Won  Cluster ID  Game Mode Game Type  Hero 1  Hero 2  Hero 3  Hero 4  \\\n",
       "0    0         223        2.0         2       0       0       0       0   \n",
       "1    1         152        2.0         2       0       0       0       1   \n",
       "2    1         131        2.0         2       0       0       0       1   \n",
       "3    1         154        2.0         2       0       0       0       0   \n",
       "4    0         171        2.0         3       0       0       0       0   \n",
       "\n",
       "   Hero 5  Hero 6   ...    Hero 105  Hero 106  Hero 107  Hero 108  Hero 109  \\\n",
       "0       0       0   ...           0         0         0         0         0   \n",
       "1       0      -1   ...           0         0         0         0         0   \n",
       "2       0      -1   ...           0         0         0         0         0   \n",
       "3       0       0   ...           0         0         0         0         0   \n",
       "4       0      -1   ...           0         0         0         0         0   \n",
       "\n",
       "   Hero 110  Hero 111  Hero 112  Hero 113  Game ID  \n",
       "0         0         0         0         0        0  \n",
       "1         0         0         0         0        1  \n",
       "2         0         0         0         0        2  \n",
       "3         0         0         0         0        3  \n",
       "4         0         0         0         0        4  \n",
       "\n",
       "[5 rows x 118 columns]"
      ]
     },
     "execution_count": 3,
     "metadata": {},
     "output_type": "execute_result"
    }
   ],
   "source": [
    "trainData.head()"
   ]
  },
  {
   "cell_type": "markdown",
   "metadata": {},
   "source": [
    "### PRE-PROCESSING"
   ]
  },
  {
   "cell_type": "code",
   "execution_count": 4,
   "metadata": {},
   "outputs": [
    {
     "name": "stdout",
     "output_type": "stream",
     "text": [
      "Game Type\n",
      "Hero 7\n"
     ]
    }
   ],
   "source": [
    "# Checking for columns that have 'object' dtype\n",
    "# Need to explore these columns later to check if they have disguised missing values\n",
    "for col in trainData.columns:\n",
    "    if trainData[col].dtype == 'object':\n",
    "        print(col)"
   ]
  },
  {
   "cell_type": "code",
   "execution_count": 5,
   "metadata": {},
   "outputs": [
    {
     "name": "stdout",
     "output_type": "stream",
     "text": [
      "Game Mode\n"
     ]
    }
   ],
   "source": [
    "# Checking for columns that have any null/NaN values\n",
    "# Need to explore these columns later to take care of NaN values\n",
    "for col in trainData.columns:\n",
    "    if trainData[col].isna().any():\n",
    "        print(col)"
   ]
  },
  {
   "cell_type": "markdown",
   "metadata": {},
   "source": [
    "##### Target 'Won'"
   ]
  },
  {
   "cell_type": "code",
   "execution_count": 6,
   "metadata": {},
   "outputs": [
    {
     "data": {
      "text/plain": [
       " 1    48718\n",
       " 0    43805\n",
       "-1      127\n",
       "Name: Won, dtype: int64"
      ]
     },
     "execution_count": 6,
     "metadata": {},
     "output_type": "execute_result"
    }
   ],
   "source": [
    "# Exploring the target variable\n",
    "trainData['Won'].value_counts()"
   ]
  },
  {
   "cell_type": "code",
   "execution_count": 7,
   "metadata": {},
   "outputs": [],
   "source": [
    "# Given problem says 'Won' should be either 1 or 0, hence -1 is a missing value\n",
    "# As gameplays which do not have any meaningful target value cannot contribute to training, we remove these rows \n",
    "trainData = trainData[trainData['Won'] != -1]"
   ]
  },
  {
   "cell_type": "code",
   "execution_count": 8,
   "metadata": {},
   "outputs": [
    {
     "data": {
      "text/plain": [
       "1    48718\n",
       "0    43805\n",
       "Name: Won, dtype: int64"
      ]
     },
     "execution_count": 8,
     "metadata": {},
     "output_type": "execute_result"
    }
   ],
   "source": [
    "trainData['Won'].value_counts()"
   ]
  },
  {
   "cell_type": "markdown",
   "metadata": {},
   "source": [
    "##### 'Game Mode'"
   ]
  },
  {
   "cell_type": "code",
   "execution_count": 9,
   "metadata": {},
   "outputs": [
    {
     "data": {
      "text/plain": [
       "2.0    71591\n",
       "9.0    10017\n",
       "8.0     8294\n",
       "1.0     1229\n",
       "6.0      497\n",
       "3.0      386\n",
       "4.0      206\n",
       "7.0       81\n",
       "5.0       12\n",
       "Name: Game Mode, dtype: int64"
      ]
     },
     "execution_count": 9,
     "metadata": {},
     "output_type": "execute_result"
    }
   ],
   "source": [
    "# Checking distribution of 'Game Mode'\n",
    "trainData['Game Mode'].value_counts()"
   ]
  },
  {
   "cell_type": "code",
   "execution_count": 10,
   "metadata": {},
   "outputs": [
    {
     "data": {
      "text/plain": [
       "True"
      ]
     },
     "execution_count": 10,
     "metadata": {},
     "output_type": "execute_result"
    }
   ],
   "source": [
    "trainData['Game Mode'].isna().any()"
   ]
  },
  {
   "cell_type": "code",
   "execution_count": 11,
   "metadata": {},
   "outputs": [],
   "source": [
    "# As 'Game Mode' is a categorical variable, need to replace missing values with one of the categories 1-9\n",
    "# As mode of remaining data (=2) has a pretty high frequency, we can safely replace missing values with 2\n",
    "trainData['Game Mode'].fillna(value = trainData['Game Mode'].mode()[0], inplace=True)"
   ]
  },
  {
   "cell_type": "code",
   "execution_count": 12,
   "metadata": {},
   "outputs": [
    {
     "data": {
      "text/plain": [
       "2.0    71801\n",
       "9.0    10017\n",
       "8.0     8294\n",
       "1.0     1229\n",
       "6.0      497\n",
       "3.0      386\n",
       "4.0      206\n",
       "7.0       81\n",
       "5.0       12\n",
       "Name: Game Mode, dtype: int64"
      ]
     },
     "execution_count": 12,
     "metadata": {},
     "output_type": "execute_result"
    }
   ],
   "source": [
    "trainData['Game Mode'].value_counts()"
   ]
  },
  {
   "cell_type": "code",
   "execution_count": 13,
   "metadata": {},
   "outputs": [
    {
     "data": {
      "text/plain": [
       "dtype('float64')"
      ]
     },
     "execution_count": 13,
     "metadata": {},
     "output_type": "execute_result"
    }
   ],
   "source": [
    "trainData['Game Mode'].dtype"
   ]
  },
  {
   "cell_type": "code",
   "execution_count": 14,
   "metadata": {},
   "outputs": [],
   "source": [
    "# Changing dtype to int for convenience\n",
    "trainData['Game Mode'] = trainData['Game Mode'].astype('int64')"
   ]
  },
  {
   "cell_type": "markdown",
   "metadata": {},
   "source": [
    "##### 'Game Type'"
   ]
  },
  {
   "cell_type": "code",
   "execution_count": 15,
   "metadata": {},
   "outputs": [
    {
     "data": {
      "text/plain": [
       "2    56418\n",
       "3    35604\n",
       "?      486\n",
       "1       15\n",
       "Name: Game Type, dtype: int64"
      ]
     },
     "execution_count": 15,
     "metadata": {},
     "output_type": "execute_result"
    }
   ],
   "source": [
    "# Checking for disguised missing values\n",
    "trainData['Game Type'].value_counts()"
   ]
  },
  {
   "cell_type": "code",
   "execution_count": 16,
   "metadata": {},
   "outputs": [],
   "source": [
    "# As 'Game Type' is a categorical variable, need to replace missing values with one of the categories 1-3\n",
    "# As mode of remaining data (=2) has a pretty high frequency, we can safely replace missing values with 2\n",
    "trainData['Game Type'].replace(to_replace = '?', value = trainData['Game Type'].mode()[0], inplace=True)"
   ]
  },
  {
   "cell_type": "code",
   "execution_count": 17,
   "metadata": {},
   "outputs": [
    {
     "data": {
      "text/plain": [
       "dtype('O')"
      ]
     },
     "execution_count": 17,
     "metadata": {},
     "output_type": "execute_result"
    }
   ],
   "source": [
    "trainData['Game Type'].dtype"
   ]
  },
  {
   "cell_type": "code",
   "execution_count": 18,
   "metadata": {},
   "outputs": [],
   "source": [
    "# Changing dtype to numeric\n",
    "trainData['Game Type'] = trainData['Game Type'].astype('int64')"
   ]
  },
  {
   "cell_type": "markdown",
   "metadata": {},
   "source": [
    "##### 'Hero 7'"
   ]
  },
  {
   "cell_type": "code",
   "execution_count": 19,
   "metadata": {},
   "outputs": [
    {
     "data": {
      "text/plain": [
       "0     80619\n",
       "-1     5606\n",
       "1      5577\n",
       "?       721\n",
       "Name: Hero 7, dtype: int64"
      ]
     },
     "execution_count": 19,
     "metadata": {},
     "output_type": "execute_result"
    }
   ],
   "source": [
    "trainData['Hero 7'].value_counts()"
   ]
  },
  {
   "cell_type": "code",
   "execution_count": 20,
   "metadata": {},
   "outputs": [],
   "source": [
    "# Only 'Hero 7' of all the Hero features has some missing values.\n",
    "# It is given in the question that for each row, there should be 5 1's and 5 -1's from Hero 1 to Hero 113.\n",
    "# We check this for each row and replace missing value of 'Hero 7' accordingly.\n",
    "# Using domain knowledge this way (and not resorting to simple replacement with mode/median/bfill/ffill)\n",
    "# allows us to obtain the true original values of 'Hero 7' without any error.\n",
    "\n",
    "for ind,row in trainData.iterrows():\n",
    "    \n",
    "    cntY = 0\n",
    "    cntN = 0\n",
    "    \n",
    "    if row['Hero 7'] == '?':\n",
    "        for i in range(1, 114):\n",
    "            colName = 'Hero ' + str(i)\n",
    "            if row[colName] == 1:\n",
    "                cntY += 1\n",
    "            elif row[colName] == -1:\n",
    "                cntN += 1\n",
    "        \n",
    "        if cntY < 5:\n",
    "            trainData.loc[ind, 'Hero 7'] = 1\n",
    "        elif cntN < 5:\n",
    "            trainData.loc[ind, 'Hero 7'] = -1\n",
    "        else:\n",
    "            trainData.loc[ind, 'Hero 7'] = 0"
   ]
  },
  {
   "cell_type": "code",
   "execution_count": 21,
   "metadata": {},
   "outputs": [
    {
     "data": {
      "text/plain": [
       "0     80619\n",
       "-1     5606\n",
       "1      5577\n",
       "0       644\n",
       "-1       39\n",
       "1        38\n",
       "Name: Hero 7, dtype: int64"
      ]
     },
     "execution_count": 21,
     "metadata": {},
     "output_type": "execute_result"
    }
   ],
   "source": [
    "trainData['Hero 7'].value_counts()"
   ]
  },
  {
   "cell_type": "code",
   "execution_count": 22,
   "metadata": {},
   "outputs": [],
   "source": [
    "# Converting to dtype int\n",
    "trainData['Hero 7'] = trainData['Hero 7'].astype('int64')"
   ]
  },
  {
   "cell_type": "code",
   "execution_count": 23,
   "metadata": {
    "scrolled": true
   },
   "outputs": [
    {
     "data": {
      "text/plain": [
       " 0    81263\n",
       "-1     5645\n",
       " 1     5615\n",
       "Name: Hero 7, dtype: int64"
      ]
     },
     "execution_count": 23,
     "metadata": {},
     "output_type": "execute_result"
    }
   ],
   "source": [
    "trainData['Hero 7'].value_counts()"
   ]
  },
  {
   "cell_type": "markdown",
   "metadata": {},
   "source": [
    "##### Scaling 'Cluster ID'"
   ]
  },
  {
   "cell_type": "code",
   "execution_count": 24,
   "metadata": {},
   "outputs": [
    {
     "data": {
      "text/plain": [
       "227    7865\n",
       "154    7003\n",
       "156    6889\n",
       "151    6838\n",
       "153    6744\n",
       "152    6706\n",
       "155    6606\n",
       "224    5948\n",
       "231    3662\n",
       "223    3496\n",
       "225    2639\n",
       "232    1703\n",
       "204    1463\n",
       "182    1376\n",
       "187    1256\n",
       "145    1239\n",
       "144    1201\n",
       "188    1190\n",
       "181    1183\n",
       "171    1118\n",
       "186    1086\n",
       "184     973\n",
       "185     968\n",
       "183     941\n",
       "191     921\n",
       "111     837\n",
       "192     827\n",
       "112     804\n",
       "133     762\n",
       "131     756\n",
       "132     749\n",
       "121     714\n",
       "138     694\n",
       "124     664\n",
       "123     663\n",
       "122     660\n",
       "134     645\n",
       "137     615\n",
       "136     612\n",
       "135     604\n",
       "261     261\n",
       "161     244\n",
       "251     154\n",
       "241     126\n",
       "213      89\n",
       "211      18\n",
       "212      11\n",
       "Name: Cluster ID, dtype: int64"
      ]
     },
     "execution_count": 24,
     "metadata": {},
     "output_type": "execute_result"
    }
   ],
   "source": [
    "trainData['Cluster ID'].value_counts()"
   ]
  },
  {
   "cell_type": "code",
   "execution_count": 25,
   "metadata": {},
   "outputs": [
    {
     "data": {
      "text/plain": [
       "count    92523.000000\n",
       "mean       175.858900\n",
       "std         35.657784\n",
       "min        111.000000\n",
       "25%        152.000000\n",
       "50%        156.000000\n",
       "75%        223.000000\n",
       "max        261.000000\n",
       "Name: Cluster ID, dtype: float64"
      ]
     },
     "execution_count": 25,
     "metadata": {},
     "output_type": "execute_result"
    }
   ],
   "source": [
    "trainData['Cluster ID'].describe()"
   ]
  },
  {
   "cell_type": "code",
   "execution_count": 26,
   "metadata": {},
   "outputs": [
    {
     "name": "stderr",
     "output_type": "stream",
     "text": [
      "c:\\users\\shivin\\anaconda3\\envs\\tensorflow\\lib\\site-packages\\sklearn\\utils\\validation.py:590: DataConversionWarning: Data with input dtype int64 was converted to float64 by MinMaxScaler.\n",
      "  warnings.warn(msg, DataConversionWarning)\n",
      "c:\\users\\shivin\\anaconda3\\envs\\tensorflow\\lib\\site-packages\\sklearn\\utils\\validation.py:590: DataConversionWarning: Data with input dtype int64 was converted to float64 by MinMaxScaler.\n",
      "  warnings.warn(msg, DataConversionWarning)\n"
     ]
    }
   ],
   "source": [
    "# From above, 'Cluster ID' is not unique to each gameplay, hence should not be discarded on the misconception that \n",
    "# it is an ID for each gameplay.\n",
    "# Also, 'Cluster ID' ranges from 111 to 261, hence needs to be scaled as other features range from -1 to 1\n",
    "from sklearn.preprocessing import MinMaxScaler\n",
    "scaler = MinMaxScaler()\n",
    "\n",
    "trainData['Cluster ID'] = scaler.fit_transform(np.reshape(trainData['Cluster ID'].values, newshape=(-1, 1)))\n",
    "testData['Cluster ID'] = scaler.fit_transform(np.reshape(testData['Cluster ID'].values, newshape=(-1, 1)))"
   ]
  },
  {
   "cell_type": "markdown",
   "metadata": {},
   "source": [
    "##### OHE categorical variables"
   ]
  },
  {
   "cell_type": "code",
   "execution_count": 27,
   "metadata": {},
   "outputs": [],
   "source": [
    "# Both 'Game Type' and 'Game Mode' are categorical variables, need to be one hot encoded\n",
    "trainData = pd.get_dummies(trainData, columns=['Game Type', 'Game Mode'], drop_first=True)\n",
    "testData = pd.get_dummies(testData, columns=['Game Type', 'Game Mode'], drop_first=True)"
   ]
  },
  {
   "cell_type": "markdown",
   "metadata": {},
   "source": [
    "##### Removing redundant columns"
   ]
  },
  {
   "cell_type": "code",
   "execution_count": 28,
   "metadata": {},
   "outputs": [
    {
     "name": "stdout",
     "output_type": "stream",
     "text": [
      "Hero 24\n",
      "Hero 108\n"
     ]
    }
   ],
   "source": [
    "# Remove columns from dataset that have only one single value throughout as they do not contribute to training\n",
    "dropCols = []\n",
    "for col in trainData.columns:\n",
    "    if len(trainData[col].unique()) == 1:\n",
    "        print(col)\n",
    "        dropCols.append(col)"
   ]
  },
  {
   "cell_type": "code",
   "execution_count": 29,
   "metadata": {},
   "outputs": [],
   "source": [
    "trainData = trainData.drop(dropCols, axis=1)\n",
    "testData = testData.drop(dropCols, axis=1)"
   ]
  },
  {
   "cell_type": "markdown",
   "metadata": {},
   "source": [
    "##### Splitting features and targets"
   ]
  },
  {
   "cell_type": "code",
   "execution_count": 30,
   "metadata": {},
   "outputs": [],
   "source": [
    "# Drop 'Game ID' as it only serves to identify each gameplay and not for training\n",
    "x_train = trainData.drop(['Won', 'Game ID'], axis=1)\n",
    "y_train = trainData['Won']"
   ]
  },
  {
   "cell_type": "code",
   "execution_count": 31,
   "metadata": {},
   "outputs": [
    {
     "data": {
      "text/html": [
       "<div>\n",
       "<style scoped>\n",
       "    .dataframe tbody tr th:only-of-type {\n",
       "        vertical-align: middle;\n",
       "    }\n",
       "\n",
       "    .dataframe tbody tr th {\n",
       "        vertical-align: top;\n",
       "    }\n",
       "\n",
       "    .dataframe thead th {\n",
       "        text-align: right;\n",
       "    }\n",
       "</style>\n",
       "<table border=\"1\" class=\"dataframe\">\n",
       "  <thead>\n",
       "    <tr style=\"text-align: right;\">\n",
       "      <th></th>\n",
       "      <th>Cluster ID</th>\n",
       "      <th>Hero 1</th>\n",
       "      <th>Hero 2</th>\n",
       "      <th>Hero 3</th>\n",
       "      <th>Hero 4</th>\n",
       "      <th>Hero 5</th>\n",
       "      <th>Hero 6</th>\n",
       "      <th>Hero 7</th>\n",
       "      <th>Hero 8</th>\n",
       "      <th>Hero 9</th>\n",
       "      <th>...</th>\n",
       "      <th>Game Type_2</th>\n",
       "      <th>Game Type_3</th>\n",
       "      <th>Game Mode_2</th>\n",
       "      <th>Game Mode_3</th>\n",
       "      <th>Game Mode_4</th>\n",
       "      <th>Game Mode_5</th>\n",
       "      <th>Game Mode_6</th>\n",
       "      <th>Game Mode_7</th>\n",
       "      <th>Game Mode_8</th>\n",
       "      <th>Game Mode_9</th>\n",
       "    </tr>\n",
       "  </thead>\n",
       "  <tbody>\n",
       "    <tr>\n",
       "      <th>0</th>\n",
       "      <td>0.746667</td>\n",
       "      <td>0</td>\n",
       "      <td>0</td>\n",
       "      <td>0</td>\n",
       "      <td>0</td>\n",
       "      <td>0</td>\n",
       "      <td>0</td>\n",
       "      <td>0</td>\n",
       "      <td>0</td>\n",
       "      <td>0</td>\n",
       "      <td>...</td>\n",
       "      <td>1</td>\n",
       "      <td>0</td>\n",
       "      <td>1</td>\n",
       "      <td>0</td>\n",
       "      <td>0</td>\n",
       "      <td>0</td>\n",
       "      <td>0</td>\n",
       "      <td>0</td>\n",
       "      <td>0</td>\n",
       "      <td>0</td>\n",
       "    </tr>\n",
       "    <tr>\n",
       "      <th>1</th>\n",
       "      <td>0.273333</td>\n",
       "      <td>0</td>\n",
       "      <td>0</td>\n",
       "      <td>0</td>\n",
       "      <td>1</td>\n",
       "      <td>0</td>\n",
       "      <td>-1</td>\n",
       "      <td>0</td>\n",
       "      <td>0</td>\n",
       "      <td>0</td>\n",
       "      <td>...</td>\n",
       "      <td>1</td>\n",
       "      <td>0</td>\n",
       "      <td>1</td>\n",
       "      <td>0</td>\n",
       "      <td>0</td>\n",
       "      <td>0</td>\n",
       "      <td>0</td>\n",
       "      <td>0</td>\n",
       "      <td>0</td>\n",
       "      <td>0</td>\n",
       "    </tr>\n",
       "    <tr>\n",
       "      <th>2</th>\n",
       "      <td>0.133333</td>\n",
       "      <td>0</td>\n",
       "      <td>0</td>\n",
       "      <td>0</td>\n",
       "      <td>1</td>\n",
       "      <td>0</td>\n",
       "      <td>-1</td>\n",
       "      <td>0</td>\n",
       "      <td>0</td>\n",
       "      <td>0</td>\n",
       "      <td>...</td>\n",
       "      <td>1</td>\n",
       "      <td>0</td>\n",
       "      <td>1</td>\n",
       "      <td>0</td>\n",
       "      <td>0</td>\n",
       "      <td>0</td>\n",
       "      <td>0</td>\n",
       "      <td>0</td>\n",
       "      <td>0</td>\n",
       "      <td>0</td>\n",
       "    </tr>\n",
       "    <tr>\n",
       "      <th>3</th>\n",
       "      <td>0.286667</td>\n",
       "      <td>0</td>\n",
       "      <td>0</td>\n",
       "      <td>0</td>\n",
       "      <td>0</td>\n",
       "      <td>0</td>\n",
       "      <td>0</td>\n",
       "      <td>-1</td>\n",
       "      <td>0</td>\n",
       "      <td>0</td>\n",
       "      <td>...</td>\n",
       "      <td>1</td>\n",
       "      <td>0</td>\n",
       "      <td>1</td>\n",
       "      <td>0</td>\n",
       "      <td>0</td>\n",
       "      <td>0</td>\n",
       "      <td>0</td>\n",
       "      <td>0</td>\n",
       "      <td>0</td>\n",
       "      <td>0</td>\n",
       "    </tr>\n",
       "    <tr>\n",
       "      <th>4</th>\n",
       "      <td>0.400000</td>\n",
       "      <td>0</td>\n",
       "      <td>0</td>\n",
       "      <td>0</td>\n",
       "      <td>0</td>\n",
       "      <td>0</td>\n",
       "      <td>-1</td>\n",
       "      <td>0</td>\n",
       "      <td>0</td>\n",
       "      <td>-1</td>\n",
       "      <td>...</td>\n",
       "      <td>0</td>\n",
       "      <td>1</td>\n",
       "      <td>1</td>\n",
       "      <td>0</td>\n",
       "      <td>0</td>\n",
       "      <td>0</td>\n",
       "      <td>0</td>\n",
       "      <td>0</td>\n",
       "      <td>0</td>\n",
       "      <td>0</td>\n",
       "    </tr>\n",
       "  </tbody>\n",
       "</table>\n",
       "<p>5 rows × 122 columns</p>\n",
       "</div>"
      ],
      "text/plain": [
       "   Cluster ID  Hero 1  Hero 2  Hero 3  Hero 4  Hero 5  Hero 6  Hero 7  Hero 8  \\\n",
       "0    0.746667       0       0       0       0       0       0       0       0   \n",
       "1    0.273333       0       0       0       1       0      -1       0       0   \n",
       "2    0.133333       0       0       0       1       0      -1       0       0   \n",
       "3    0.286667       0       0       0       0       0       0      -1       0   \n",
       "4    0.400000       0       0       0       0       0      -1       0       0   \n",
       "\n",
       "   Hero 9     ...       Game Type_2  Game Type_3  Game Mode_2  Game Mode_3  \\\n",
       "0       0     ...                 1            0            1            0   \n",
       "1       0     ...                 1            0            1            0   \n",
       "2       0     ...                 1            0            1            0   \n",
       "3       0     ...                 1            0            1            0   \n",
       "4      -1     ...                 0            1            1            0   \n",
       "\n",
       "   Game Mode_4  Game Mode_5  Game Mode_6  Game Mode_7  Game Mode_8  \\\n",
       "0            0            0            0            0            0   \n",
       "1            0            0            0            0            0   \n",
       "2            0            0            0            0            0   \n",
       "3            0            0            0            0            0   \n",
       "4            0            0            0            0            0   \n",
       "\n",
       "   Game Mode_9  \n",
       "0            0  \n",
       "1            0  \n",
       "2            0  \n",
       "3            0  \n",
       "4            0  \n",
       "\n",
       "[5 rows x 122 columns]"
      ]
     },
     "execution_count": 31,
     "metadata": {},
     "output_type": "execute_result"
    }
   ],
   "source": [
    "x_train.head()"
   ]
  },
  {
   "cell_type": "code",
   "execution_count": 32,
   "metadata": {},
   "outputs": [
    {
     "data": {
      "text/plain": [
       "0    0\n",
       "1    1\n",
       "2    1\n",
       "3    1\n",
       "4    0\n",
       "Name: Won, dtype: int64"
      ]
     },
     "execution_count": 32,
     "metadata": {},
     "output_type": "execute_result"
    }
   ],
   "source": [
    "y_train.head()"
   ]
  },
  {
   "cell_type": "code",
   "execution_count": 33,
   "metadata": {},
   "outputs": [
    {
     "data": {
      "text/html": [
       "<div>\n",
       "<style scoped>\n",
       "    .dataframe tbody tr th:only-of-type {\n",
       "        vertical-align: middle;\n",
       "    }\n",
       "\n",
       "    .dataframe tbody tr th {\n",
       "        vertical-align: top;\n",
       "    }\n",
       "\n",
       "    .dataframe thead th {\n",
       "        text-align: right;\n",
       "    }\n",
       "</style>\n",
       "<table border=\"1\" class=\"dataframe\">\n",
       "  <thead>\n",
       "    <tr style=\"text-align: right;\">\n",
       "      <th></th>\n",
       "      <th>Cluster ID</th>\n",
       "      <th>Hero 1</th>\n",
       "      <th>Hero 2</th>\n",
       "      <th>Hero 3</th>\n",
       "      <th>Hero 4</th>\n",
       "      <th>Hero 5</th>\n",
       "      <th>Hero 6</th>\n",
       "      <th>Hero 7</th>\n",
       "      <th>Hero 8</th>\n",
       "      <th>Hero 9</th>\n",
       "      <th>...</th>\n",
       "      <th>Game Type_2</th>\n",
       "      <th>Game Type_3</th>\n",
       "      <th>Game Mode_2</th>\n",
       "      <th>Game Mode_3</th>\n",
       "      <th>Game Mode_4</th>\n",
       "      <th>Game Mode_5</th>\n",
       "      <th>Game Mode_6</th>\n",
       "      <th>Game Mode_7</th>\n",
       "      <th>Game Mode_8</th>\n",
       "      <th>Game Mode_9</th>\n",
       "    </tr>\n",
       "  </thead>\n",
       "  <tbody>\n",
       "    <tr>\n",
       "      <th>0</th>\n",
       "      <td>0.746667</td>\n",
       "      <td>0</td>\n",
       "      <td>-1</td>\n",
       "      <td>0</td>\n",
       "      <td>0</td>\n",
       "      <td>0</td>\n",
       "      <td>0</td>\n",
       "      <td>0</td>\n",
       "      <td>0</td>\n",
       "      <td>1</td>\n",
       "      <td>...</td>\n",
       "      <td>1</td>\n",
       "      <td>0</td>\n",
       "      <td>0</td>\n",
       "      <td>0</td>\n",
       "      <td>0</td>\n",
       "      <td>0</td>\n",
       "      <td>0</td>\n",
       "      <td>0</td>\n",
       "      <td>1</td>\n",
       "      <td>0</td>\n",
       "    </tr>\n",
       "    <tr>\n",
       "      <th>1</th>\n",
       "      <td>0.773333</td>\n",
       "      <td>0</td>\n",
       "      <td>0</td>\n",
       "      <td>0</td>\n",
       "      <td>0</td>\n",
       "      <td>0</td>\n",
       "      <td>0</td>\n",
       "      <td>0</td>\n",
       "      <td>0</td>\n",
       "      <td>1</td>\n",
       "      <td>...</td>\n",
       "      <td>1</td>\n",
       "      <td>0</td>\n",
       "      <td>0</td>\n",
       "      <td>0</td>\n",
       "      <td>0</td>\n",
       "      <td>0</td>\n",
       "      <td>0</td>\n",
       "      <td>0</td>\n",
       "      <td>1</td>\n",
       "      <td>0</td>\n",
       "    </tr>\n",
       "    <tr>\n",
       "      <th>2</th>\n",
       "      <td>0.166667</td>\n",
       "      <td>1</td>\n",
       "      <td>0</td>\n",
       "      <td>0</td>\n",
       "      <td>0</td>\n",
       "      <td>-1</td>\n",
       "      <td>0</td>\n",
       "      <td>0</td>\n",
       "      <td>0</td>\n",
       "      <td>1</td>\n",
       "      <td>...</td>\n",
       "      <td>1</td>\n",
       "      <td>0</td>\n",
       "      <td>1</td>\n",
       "      <td>0</td>\n",
       "      <td>0</td>\n",
       "      <td>0</td>\n",
       "      <td>0</td>\n",
       "      <td>0</td>\n",
       "      <td>0</td>\n",
       "      <td>0</td>\n",
       "    </tr>\n",
       "    <tr>\n",
       "      <th>3</th>\n",
       "      <td>0.773333</td>\n",
       "      <td>-1</td>\n",
       "      <td>0</td>\n",
       "      <td>0</td>\n",
       "      <td>0</td>\n",
       "      <td>0</td>\n",
       "      <td>0</td>\n",
       "      <td>0</td>\n",
       "      <td>0</td>\n",
       "      <td>1</td>\n",
       "      <td>...</td>\n",
       "      <td>1</td>\n",
       "      <td>0</td>\n",
       "      <td>1</td>\n",
       "      <td>0</td>\n",
       "      <td>0</td>\n",
       "      <td>0</td>\n",
       "      <td>0</td>\n",
       "      <td>0</td>\n",
       "      <td>0</td>\n",
       "      <td>0</td>\n",
       "    </tr>\n",
       "    <tr>\n",
       "      <th>4</th>\n",
       "      <td>0.486667</td>\n",
       "      <td>0</td>\n",
       "      <td>0</td>\n",
       "      <td>0</td>\n",
       "      <td>-1</td>\n",
       "      <td>0</td>\n",
       "      <td>0</td>\n",
       "      <td>0</td>\n",
       "      <td>-1</td>\n",
       "      <td>0</td>\n",
       "      <td>...</td>\n",
       "      <td>0</td>\n",
       "      <td>1</td>\n",
       "      <td>1</td>\n",
       "      <td>0</td>\n",
       "      <td>0</td>\n",
       "      <td>0</td>\n",
       "      <td>0</td>\n",
       "      <td>0</td>\n",
       "      <td>0</td>\n",
       "      <td>0</td>\n",
       "    </tr>\n",
       "  </tbody>\n",
       "</table>\n",
       "<p>5 rows × 123 columns</p>\n",
       "</div>"
      ],
      "text/plain": [
       "   Cluster ID  Hero 1  Hero 2  Hero 3  Hero 4  Hero 5  Hero 6  Hero 7  Hero 8  \\\n",
       "0    0.746667       0      -1       0       0       0       0       0       0   \n",
       "1    0.773333       0       0       0       0       0       0       0       0   \n",
       "2    0.166667       1       0       0       0      -1       0       0       0   \n",
       "3    0.773333      -1       0       0       0       0       0       0       0   \n",
       "4    0.486667       0       0       0      -1       0       0       0      -1   \n",
       "\n",
       "   Hero 9     ...       Game Type_2  Game Type_3  Game Mode_2  Game Mode_3  \\\n",
       "0       1     ...                 1            0            0            0   \n",
       "1       1     ...                 1            0            0            0   \n",
       "2       1     ...                 1            0            1            0   \n",
       "3       1     ...                 1            0            1            0   \n",
       "4       0     ...                 0            1            1            0   \n",
       "\n",
       "   Game Mode_4  Game Mode_5  Game Mode_6  Game Mode_7  Game Mode_8  \\\n",
       "0            0            0            0            0            1   \n",
       "1            0            0            0            0            1   \n",
       "2            0            0            0            0            0   \n",
       "3            0            0            0            0            0   \n",
       "4            0            0            0            0            0   \n",
       "\n",
       "   Game Mode_9  \n",
       "0            0  \n",
       "1            0  \n",
       "2            0  \n",
       "3            0  \n",
       "4            0  \n",
       "\n",
       "[5 rows x 123 columns]"
      ]
     },
     "execution_count": 33,
     "metadata": {},
     "output_type": "execute_result"
    }
   ],
   "source": [
    "testData.head()"
   ]
  },
  {
   "cell_type": "markdown",
   "metadata": {},
   "source": [
    "### TRAINING MODEL"
   ]
  },
  {
   "cell_type": "code",
   "execution_count": 34,
   "metadata": {},
   "outputs": [
    {
     "name": "stderr",
     "output_type": "stream",
     "text": [
      "Using TensorFlow backend.\n"
     ]
    }
   ],
   "source": [
    "from keras.layers import Dense, BatchNormalization, Dropout\n",
    "from keras.models import Sequential\n",
    "from keras.callbacks import EarlyStopping, ModelCheckpoint"
   ]
  },
  {
   "cell_type": "code",
   "execution_count": 35,
   "metadata": {},
   "outputs": [],
   "source": [
    "# Setting up a very shallow network of 4 neurons in 1 hidden layer\n",
    "# Intuition - 1 neuron each for effect of Hero Types, Cluster ID, Game Type, Game Mode\n",
    "\n",
    "# Can tweak around the network architecture adding different layers with different regularization techniques\n",
    "\n",
    "model = Sequential()\n",
    "model.add(Dense(4, activation='relu'))\n",
    "model.add(BatchNormalization())\n",
    "model.add(Dense(1, activation='sigmoid'))"
   ]
  },
  {
   "cell_type": "code",
   "execution_count": 36,
   "metadata": {},
   "outputs": [],
   "source": [
    "model.compile(optimizer='adam', loss='binary_crossentropy', metrics=['accuracy'])"
   ]
  },
  {
   "cell_type": "code",
   "execution_count": 37,
   "metadata": {
    "scrolled": true
   },
   "outputs": [
    {
     "name": "stdout",
     "output_type": "stream",
     "text": [
      "Train on 74018 samples, validate on 18505 samples\n",
      "Epoch 1/20\n",
      "74018/74018 [==============================] - 13s 176us/step - loss: 0.6808 - acc: 0.5677 - val_loss: 0.6609 - val_acc: 0.6037\n",
      "Epoch 2/20\n",
      "74018/74018 [==============================] - 10s 134us/step - loss: 0.6659 - acc: 0.5938 - val_loss: 0.6604 - val_acc: 0.6052\n",
      "Epoch 3/20\n",
      "74018/74018 [==============================] - 10s 134us/step - loss: 0.6648 - acc: 0.5969 - val_loss: 0.6601 - val_acc: 0.6038\n",
      "Epoch 4/20\n",
      "74018/74018 [==============================] - 10s 132us/step - loss: 0.6645 - acc: 0.5964 - val_loss: 0.6605 - val_acc: 0.6029\n",
      "Epoch 5/20\n",
      "74018/74018 [==============================] - 9s 127us/step - loss: 0.6645 - acc: 0.5963 - val_loss: 0.6602 - val_acc: 0.6048\n",
      "Epoch 6/20\n",
      "74018/74018 [==============================] - 10s 131us/step - loss: 0.6643 - acc: 0.5958 - val_loss: 0.6596 - val_acc: 0.6065\n",
      "Epoch 7/20\n",
      "74018/74018 [==============================] - 10s 129us/step - loss: 0.6641 - acc: 0.5960 - val_loss: 0.6596 - val_acc: 0.6040\n",
      "Epoch 8/20\n",
      "74018/74018 [==============================] - 10s 140us/step - loss: 0.6643 - acc: 0.5972 - val_loss: 0.6597 - val_acc: 0.6052\n",
      "Epoch 9/20\n",
      "74018/74018 [==============================] - 10s 133us/step - loss: 0.6640 - acc: 0.5959 - val_loss: 0.6595 - val_acc: 0.6032\n",
      "Epoch 10/20\n",
      "74018/74018 [==============================] - 10s 130us/step - loss: 0.6643 - acc: 0.5968 - val_loss: 0.6596 - val_acc: 0.6079\n",
      "Epoch 11/20\n",
      "74018/74018 [==============================] - 10s 131us/step - loss: 0.6640 - acc: 0.5975 - val_loss: 0.6599 - val_acc: 0.6053\n",
      "Epoch 12/20\n",
      "74018/74018 [==============================] - 10s 140us/step - loss: 0.6632 - acc: 0.5983 - val_loss: 0.6594 - val_acc: 0.6066\n",
      "Epoch 13/20\n",
      "74018/74018 [==============================] - 10s 136us/step - loss: 0.6632 - acc: 0.5992 - val_loss: 0.6596 - val_acc: 0.6067\n",
      "Epoch 14/20\n",
      "74018/74018 [==============================] - 11s 151us/step - loss: 0.6636 - acc: 0.5978 - val_loss: 0.6600 - val_acc: 0.6049\n",
      "Epoch 15/20\n",
      "74018/74018 [==============================] - 10s 135us/step - loss: 0.6633 - acc: 0.5974 - val_loss: 0.6603 - val_acc: 0.6061\n"
     ]
    },
    {
     "data": {
      "text/plain": [
       "<keras.callbacks.History at 0x228940814e0>"
      ]
     },
     "execution_count": 37,
     "metadata": {},
     "output_type": "execute_result"
    }
   ],
   "source": [
    "# Using early stopping to stop if validation accuracy does not increase for 5 epochs\n",
    "# Saving the best model via ModelCheckpoint\n",
    "\n",
    "model.fit(x_train.values, y_train.values, epochs=20, validation_split=0.2, \n",
    "          callbacks=[EarlyStopping(monitor='val_acc', patience=5), \n",
    "                     ModelCheckpoint(filepath='best_model.h5', monitor='val_loss', save_best_only=True)])"
   ]
  },
  {
   "cell_type": "code",
   "execution_count": 38,
   "metadata": {},
   "outputs": [],
   "source": [
    "# Loading weights of best model which was saved\n",
    "model.load_weights(filepath='best_model.h5')"
   ]
  },
  {
   "cell_type": "code",
   "execution_count": 39,
   "metadata": {},
   "outputs": [],
   "source": [
    "# Gives classes directly\n",
    "y_pred = model.predict_classes(testData.drop(['Game ID'], axis=1))"
   ]
  },
  {
   "cell_type": "code",
   "execution_count": 40,
   "metadata": {},
   "outputs": [
    {
     "data": {
      "text/plain": [
       "(array([0, 1]), array([4212, 6082], dtype=int64))"
      ]
     },
     "execution_count": 40,
     "metadata": {},
     "output_type": "execute_result"
    }
   ],
   "source": [
    "# Distribution of output\n",
    "np.unique(y_pred, return_counts=True)"
   ]
  },
  {
   "cell_type": "code",
   "execution_count": 41,
   "metadata": {},
   "outputs": [],
   "source": [
    "subData = pd.DataFrame(testData['Game ID'])\n",
    "subData['Won'] = y_pred"
   ]
  },
  {
   "cell_type": "code",
   "execution_count": 42,
   "metadata": {},
   "outputs": [],
   "source": [
    "subData.to_csv('Submission.csv', index=False)"
   ]
  },
  {
   "cell_type": "code",
   "execution_count": 43,
   "metadata": {},
   "outputs": [
    {
     "data": {
      "text/html": [
       "<div>\n",
       "<style scoped>\n",
       "    .dataframe tbody tr th:only-of-type {\n",
       "        vertical-align: middle;\n",
       "    }\n",
       "\n",
       "    .dataframe tbody tr th {\n",
       "        vertical-align: top;\n",
       "    }\n",
       "\n",
       "    .dataframe thead th {\n",
       "        text-align: right;\n",
       "    }\n",
       "</style>\n",
       "<table border=\"1\" class=\"dataframe\">\n",
       "  <thead>\n",
       "    <tr style=\"text-align: right;\">\n",
       "      <th></th>\n",
       "      <th>Game ID</th>\n",
       "      <th>Won</th>\n",
       "    </tr>\n",
       "  </thead>\n",
       "  <tbody>\n",
       "    <tr>\n",
       "      <th>0</th>\n",
       "      <td>0</td>\n",
       "      <td>0</td>\n",
       "    </tr>\n",
       "    <tr>\n",
       "      <th>1</th>\n",
       "      <td>1</td>\n",
       "      <td>1</td>\n",
       "    </tr>\n",
       "    <tr>\n",
       "      <th>2</th>\n",
       "      <td>2</td>\n",
       "      <td>1</td>\n",
       "    </tr>\n",
       "    <tr>\n",
       "      <th>3</th>\n",
       "      <td>3</td>\n",
       "      <td>1</td>\n",
       "    </tr>\n",
       "    <tr>\n",
       "      <th>4</th>\n",
       "      <td>4</td>\n",
       "      <td>0</td>\n",
       "    </tr>\n",
       "  </tbody>\n",
       "</table>\n",
       "</div>"
      ],
      "text/plain": [
       "   Game ID  Won\n",
       "0        0    0\n",
       "1        1    1\n",
       "2        2    1\n",
       "3        3    1\n",
       "4        4    0"
      ]
     },
     "execution_count": 43,
     "metadata": {},
     "output_type": "execute_result"
    }
   ],
   "source": [
    "pd.read_csv('Submission.csv').head()"
   ]
  },
  {
   "cell_type": "markdown",
   "metadata": {},
   "source": [
    "The above method gives around 0.5999 accuracy. Hence, well pre-processed data trained on even a very shallow network can give good results."
   ]
  }
 ],
 "metadata": {
  "kernelspec": {
   "display_name": "Python 3",
   "language": "python",
   "name": "python3"
  },
  "language_info": {
   "codemirror_mode": {
    "name": "ipython",
    "version": 3
   },
   "file_extension": ".py",
   "mimetype": "text/x-python",
   "name": "python",
   "nbconvert_exporter": "python",
   "pygments_lexer": "ipython3",
   "version": "3.6.7"
  }
 },
 "nbformat": 4,
 "nbformat_minor": 2
}
