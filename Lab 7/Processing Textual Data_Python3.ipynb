{
 "cells": [
  {
   "cell_type": "markdown",
   "metadata": {},
   "source": [
    "### Processing Natural Langauge Data\n",
    "\n",
    "Natural Language Processing (NLP) is one of the most active fields for Deep Learning research today, and RNNs are the core technology behind most popular NLP applications today.\n",
    "\n",
    "However, to feed language data into any kind of neural network, we need to change words into some appropriate numerical representation. This is easier said than done. Only the part of the data that captures the crux of what we want the network to learn needs to be kept. All redundant information needs to be discarded and the remaining needs to be converted to numerical representation.\n",
    "\n",
    "Words can be converted to numbers using a bunch of methods, most popular of these being [Word2Vec](https://arxiv.org/pdf/1310.4546.pdf) and [GloVe](https://aclweb.org/anthology/D14-1162).\n",
    "\n",
    "**Note**: These papers might be quite difficult to understand for anyone not familiar with NLP. These methods will be briefly described in the lab. Look at the references at the end of this demo for blog articles for easier understanding.\n",
    "\n",
    "Let's begin!"
   ]
  },
  {
   "cell_type": "code",
   "execution_count": 1,
   "metadata": {},
   "outputs": [],
   "source": [
    "import re\n",
    "import string\n",
    "\n",
    "import nltk\n",
    "import numpy as np\n",
    "\n",
    "from nltk.corpus import stopwords\n",
    "from nltk.stem import PorterStemmer\n",
    "from nltk.tokenize import word_tokenize\n",
    "\n",
    "from gensim.models import Word2Vec"
   ]
  },
  {
   "cell_type": "markdown",
   "metadata": {},
   "source": [
    "Datasets usually consist of a set of strings or 'sentences' as below."
   ]
  },
  {
   "cell_type": "code",
   "execution_count": 2,
   "metadata": {},
   "outputs": [
    {
     "name": "stdout",
     "output_type": "stream",
     "text": [
      "The respondents were given a list of work performance areas that might be \n",
      "affected by stress and were asked to identify whether stress increased,\n",
      "decreased, or had no change on their work performance. Only respondents who  \n",
      "indicated stress negatively affected an area were considered in these findings.\n",
      "Of the 15 areas listed, four areas were identified as having a response rate of\n",
      "more than 50.0%. These areas were as follows: job satisfaction/morale (73.9%),\n",
      "courtesy (65.2%), accuracy (52.7%), and creativity (51.6%). Similarly, Schorr (2001) \n",
      "stated that a significant number of employees' creativity is negatively affected by\n",
      "stress. Also, Harrold and Wayland (2002) agreed that morale is strongly affected by stress.\n"
     ]
    }
   ],
   "source": [
    "input_str = \"\"\"The respondents were given a list of work performance areas that might be \n",
    "affected by stress and were asked to identify whether stress increased,\n",
    "decreased, or had no change on their work performance. Only respondents who  \n",
    "indicated stress negatively affected an area were considered in these findings.\n",
    "Of the 15 areas listed, four areas were identified as having a response rate of\n",
    "more than 50.0%. These areas were as follows: job satisfaction/morale (73.9%),\n",
    "courtesy (65.2%), accuracy (52.7%), and creativity (51.6%). Similarly, Schorr (2001) \n",
    "stated that a significant number of employees' creativity is negatively affected by\n",
    "stress. Also, Harrold and Wayland (2002) agreed that morale is strongly affected by stress.\"\"\"\n",
    "\n",
    "print (input_str)"
   ]
  },
  {
   "cell_type": "markdown",
   "metadata": {},
   "source": [
    "We don't really need upper case characters in the string because we're only concerned with the meaning and not the English syntax."
   ]
  },
  {
   "cell_type": "code",
   "execution_count": 3,
   "metadata": {},
   "outputs": [
    {
     "name": "stdout",
     "output_type": "stream",
     "text": [
      "the respondents were given a list of work performance areas that might be \n",
      "affected by stress and were asked to identify whether stress increased,\n",
      "decreased, or had no change on their work performance. only respondents who  \n",
      "indicated stress negatively affected an area were considered in these findings.\n",
      "of the 15 areas listed, four areas were identified as having a response rate of\n",
      "more than 50.0%. these areas were as follows: job satisfaction/morale (73.9%),\n",
      "courtesy (65.2%), accuracy (52.7%), and creativity (51.6%). similarly, schorr (2001) \n",
      "stated that a significant number of employees' creativity is negatively affected by\n",
      "stress. also, harrold and wayland (2002) agreed that morale is strongly affected by stress.\n"
     ]
    }
   ],
   "source": [
    "input_str = input_str.lower()\n",
    "print(input_str)"
   ]
  },
  {
   "cell_type": "markdown",
   "metadata": {},
   "source": [
    "Numbers are also not needed to make sense of a sentence."
   ]
  },
  {
   "cell_type": "code",
   "execution_count": 4,
   "metadata": {},
   "outputs": [
    {
     "name": "stdout",
     "output_type": "stream",
     "text": [
      "the respondents were given a list of work performance areas that might be \n",
      "affected by stress and were asked to identify whether stress increased,\n",
      "decreased, or had no change on their work performance. only respondents who  \n",
      "indicated stress negatively affected an area were considered in these findings.\n",
      "of the  areas listed, four areas were identified as having a response rate of\n",
      "more than .%. these areas were as follows: job satisfaction/morale (.%),\n",
      "courtesy (.%), accuracy (.%), and creativity (.%). similarly, schorr () \n",
      "stated that a significant number of employees' creativity is negatively affected by\n",
      "stress. also, harrold and wayland () agreed that morale is strongly affected by stress.\n"
     ]
    }
   ],
   "source": [
    "input_str = re.sub(r'\\d+', '', input_str)\n",
    "print (input_str)"
   ]
  },
  {
   "cell_type": "markdown",
   "metadata": {},
   "source": [
    "Punctuation marks such as '.', '/', '%' need to be removed."
   ]
  },
  {
   "cell_type": "code",
   "execution_count": 10,
   "metadata": {},
   "outputs": [
    {
     "name": "stdout",
     "output_type": "stream",
     "text": [
      "the respondents were given a list of work performance areas that might be affected by stress and were asked to identify whether stress increased decreased or had no change on their work performance only respondents who indicated stress negatively affected an area were considered in these findings of the areas listed four areas were identified as having a response rate of more than  these areas were as follows job satisfactionmorale  courtesy  accuracy  and creativity  similarly schorr  stated that a significant number of employees creativity is negatively affected by stress also harrold and wayland  agreed that morale is strongly affected by stress\n"
     ]
    }
   ],
   "source": [
    "input_str = input_str.translate(str.maketrans('', '', string.punctuation))\n",
    "print (input_str)"
   ]
  },
  {
   "cell_type": "markdown",
   "metadata": {},
   "source": [
    "Remove whitespace from the sentence."
   ]
  },
  {
   "cell_type": "code",
   "execution_count": 11,
   "metadata": {},
   "outputs": [
    {
     "name": "stdout",
     "output_type": "stream",
     "text": [
      "the respondents were given a list of work performance areas that might be affected by stress and were asked to identify whether stress increased decreased or had no change on their work performance only respondents who indicated stress negatively affected an area were considered in these findings of the areas listed four areas were identified as having a response rate of more than these areas were as follows job satisfactionmorale courtesy accuracy and creativity similarly schorr stated that a significant number of employees creativity is negatively affected by stress also harrold and wayland agreed that morale is strongly affected by stress\n"
     ]
    }
   ],
   "source": [
    "input_str = input_str.strip()\n",
    "input_str = input_str.replace('\\n', ' ')\n",
    "input_str = input_str.split()\n",
    "input_str = ' '.join(input_str)\n",
    "print (input_str)"
   ]
  },
  {
   "cell_type": "markdown",
   "metadata": {},
   "source": [
    "We remove stopwords such as ‘with’, ‘they’, ‘own’, ‘an’, ‘be’, etc. and retain just the important words in the sentence."
   ]
  },
  {
   "cell_type": "code",
   "execution_count": 12,
   "metadata": {},
   "outputs": [
    {
     "name": "stdout",
     "output_type": "stream",
     "text": [
      "['respondents', 'given', 'list', 'work', 'performance', 'areas', 'might', 'affected', 'stress', 'asked', 'identify', 'whether', 'stress', 'increased', 'decreased', 'change', 'work', 'performance', 'respondents', 'indicated', 'stress', 'negatively', 'affected', 'area', 'considered', 'findings', 'areas', 'listed', 'four', 'areas', 'identified', 'response', 'rate', 'areas', 'follows', 'job', 'satisfactionmorale', 'courtesy', 'accuracy', 'creativity', 'similarly', 'schorr', 'stated', 'significant', 'number', 'employees', 'creativity', 'negatively', 'affected', 'stress', 'also', 'harrold', 'wayland', 'agreed', 'morale', 'strongly', 'affected', 'stress']\n"
     ]
    }
   ],
   "source": [
    "stop_words = set(stopwords.words('english'))\n",
    "tokens = word_tokenize(input_str)\n",
    "word_list = [i for i in tokens if not i in stop_words]\n",
    "print (word_list)"
   ]
  },
  {
   "cell_type": "markdown",
   "metadata": {},
   "source": [
    "Stemming helps to remove un-needed suffixes from the words, for example, 'responsible' and 'responsibly' need not be different from each other."
   ]
  },
  {
   "cell_type": "code",
   "execution_count": 13,
   "metadata": {},
   "outputs": [
    {
     "name": "stdout",
     "output_type": "stream",
     "text": [
      "['respond', 'given', 'list', 'work', 'perform', 'area', 'might', 'affect', 'stress', 'ask', 'identifi', 'whether', 'stress', 'increas', 'decreas', 'chang', 'work', 'perform', 'respond', 'indic', 'stress', 'neg', 'affect', 'area', 'consid', 'find', 'area', 'list', 'four', 'area', 'identifi', 'respons', 'rate', 'area', 'follow', 'job', 'satisfactionmoral', 'courtesi', 'accuraci', 'creativ', 'similarli', 'schorr', 'state', 'signific', 'number', 'employe', 'creativ', 'neg', 'affect', 'stress', 'also', 'harrold', 'wayland', 'agre', 'moral', 'strongli', 'affect', 'stress']\n"
     ]
    }
   ],
   "source": [
    "stemmer = PorterStemmer()\n",
    "\n",
    "for i in range(len(word_list)):\n",
    "    word_list[i] = str(stemmer.stem(word_list[i]))\n",
    "    \n",
    "print (word_list)"
   ]
  },
  {
   "cell_type": "markdown",
   "metadata": {},
   "source": [
    "Build a Word2Vec model and fit it."
   ]
  },
  {
   "cell_type": "code",
   "execution_count": 14,
   "metadata": {},
   "outputs": [
    {
     "name": "stdout",
     "output_type": "stream",
     "text": [
      "Word2Vec(vocab=40, size=100, alpha=0.025)\n",
      "['respond', 'given', 'list', 'work', 'perform', 'area', 'might', 'affect', 'stress', 'ask', 'identifi', 'whether', 'increas', 'decreas', 'chang', 'indic', 'neg', 'consid', 'find', 'four', 'respons', 'rate', 'follow', 'job', 'satisfactionmoral', 'courtesi', 'accuraci', 'creativ', 'similarli', 'schorr', 'state', 'signific', 'number', 'employe', 'also', 'harrold', 'wayland', 'agre', 'moral', 'strongli']\n"
     ]
    }
   ],
   "source": [
    "sentences = [word_list]\n",
    "\n",
    "model = Word2Vec(sentences, min_count=1)\n",
    "\n",
    "# summarize the loaded model\n",
    "print(model)\n",
    "# summarize vocabulary\n",
    "words = list(model.wv.vocab)\n",
    "print(words)"
   ]
  },
  {
   "cell_type": "markdown",
   "metadata": {},
   "source": [
    "Each word will have an embedding of shape (100,) now. "
   ]
  },
  {
   "cell_type": "code",
   "execution_count": 15,
   "metadata": {},
   "outputs": [
    {
     "name": "stdout",
     "output_type": "stream",
     "text": [
      "[-4.64051962e-03  1.71110441e-03  3.75571195e-04  4.66881460e-03\n",
      "  7.04283884e-04  4.85801743e-03 -2.48872186e-03  6.09755982e-04\n",
      " -3.49958171e-03 -3.53080826e-03 -6.71890273e-04  4.29263012e-03\n",
      "  4.19441285e-03  1.63580512e-03 -2.96077738e-03 -3.30142822e-04\n",
      " -2.24106293e-03 -2.24216632e-03  4.34932066e-03  4.85281227e-03\n",
      "  4.82773967e-03 -5.49634162e-04 -2.41391454e-03 -1.32782618e-03\n",
      " -4.18691104e-03  2.66732741e-03 -4.34903102e-03 -6.04199246e-04\n",
      " -3.01818852e-03  2.32502935e-04  3.35609657e-03 -4.88431565e-03\n",
      " -3.29302391e-03 -2.78047723e-04  4.50596074e-03 -1.41093752e-03\n",
      "  2.96454900e-03  2.03897222e-03  3.30840703e-04  2.84636533e-03\n",
      "  6.88617874e-04 -4.00152383e-03  4.51637013e-03 -2.74106511e-03\n",
      "  3.43072391e-03 -3.19609651e-03 -3.77190835e-03  1.13858674e-04\n",
      "  8.23715061e-04  3.76594253e-04  1.54649140e-03  7.29018764e-04\n",
      "  5.22544651e-05  2.15334306e-03 -6.40847313e-04  5.88022405e-04\n",
      " -4.17447556e-03 -3.87077860e-04  1.45003770e-03  1.68991653e-04\n",
      "  8.45075119e-05  2.25602440e-03 -1.49626657e-03 -1.39549165e-03\n",
      "  4.51875944e-03 -5.25245967e-04 -3.42255947e-03 -4.33092425e-03\n",
      "  2.67052534e-03 -1.13473879e-03 -8.01907387e-04 -2.17973749e-04\n",
      "  1.51416764e-03 -1.25295122e-03 -1.86944660e-03  4.59075859e-03\n",
      "  3.64276650e-03 -4.12123511e-03  1.30783219e-03  9.03876440e-04\n",
      " -4.96920384e-03  1.58229331e-03 -1.18906901e-03  2.84460536e-03\n",
      " -3.81586840e-04  2.07933621e-03  6.23892993e-06  3.93703999e-03\n",
      "  2.99794204e-03 -8.87116708e-04  2.25942768e-03 -3.61520285e-03\n",
      "  2.71777529e-03  4.49653808e-03  2.56559206e-03  1.10170967e-03\n",
      " -4.19062184e-04  3.13341152e-03  1.90094323e-03 -1.37154257e-03]\n"
     ]
    },
    {
     "name": "stderr",
     "output_type": "stream",
     "text": [
      "C:\\Users\\Shivin\\Anaconda3\\lib\\site-packages\\ipykernel_launcher.py:1: DeprecationWarning: Call to deprecated `__getitem__` (Method will be removed in 4.0.0, use self.wv.__getitem__() instead).\n",
      "  \"\"\"Entry point for launching an IPython kernel.\n"
     ]
    }
   ],
   "source": [
    "print (model['respond'])"
   ]
  },
  {
   "cell_type": "markdown",
   "metadata": {},
   "source": [
    "We create a corresponding embedding for a sentence as follows which is given as input to the RNN."
   ]
  },
  {
   "cell_type": "code",
   "execution_count": 16,
   "metadata": {},
   "outputs": [
    {
     "name": "stdout",
     "output_type": "stream",
     "text": [
      "[[-0.00464052  0.0017111   0.00037557 ...  0.00313341  0.00190094\n",
      "  -0.00137154]\n",
      " [-0.00375698 -0.00192457  0.00095165 ...  0.00282176 -0.00494022\n",
      "  -0.0039588 ]\n",
      " [-0.00239305  0.00372597 -0.00040213 ...  0.00377227 -0.00379135\n",
      "  -0.00175022]\n",
      " ...\n",
      " [ 0.00336944  0.00158805 -0.00027986 ...  0.00045035 -0.00324411\n",
      "   0.00245504]\n",
      " [ 0.00135769 -0.00156474  0.00086454 ... -0.00172211  0.00470222\n",
      "   0.00441037]\n",
      " [-0.00219509 -0.00332596  0.00437519 ...  0.00224189 -0.00481592\n",
      "  -0.00386062]]\n"
     ]
    },
    {
     "name": "stderr",
     "output_type": "stream",
     "text": [
      "C:\\Users\\Shivin\\Anaconda3\\lib\\site-packages\\ipykernel_launcher.py:1: DeprecationWarning: Call to deprecated `__getitem__` (Method will be removed in 4.0.0, use self.wv.__getitem__() instead).\n",
      "  \"\"\"Entry point for launching an IPython kernel.\n"
     ]
    }
   ],
   "source": [
    "embedding = np.vstack([model[i] for i in sentences[0]])\n",
    "print (embedding)"
   ]
  },
  {
   "cell_type": "markdown",
   "metadata": {},
   "source": [
    "**References**\n",
    "\n",
    "- [Text Processing in Python](https://medium.com/@datamonsters/text-preprocessing-in-python-steps-tools-and-examples-bf025f872908): An extensive list of preprocessing methods for text data.\n",
    "- [Word2Vec with Gensim](https://machinelearningmastery.com/develop-word-embeddings-python-gensim/): Building and using the Word2Vec model in Python with Gensim.\n",
    "- [Recurrent Neural Networks in Keras](https://towardsdatascience.com/recurrent-neural-networks-by-example-in-python-ffd204f99470): For code reference.\n",
    "- [Understanding LSTM Networks](http://colah.github.io/posts/2015-08-Understanding-LSTMs/): One of the best tutorials to LSTM networks by Chris Olah.\n",
    "- [Attention and Augmented Neural Networks](https://distill.pub/2016/augmented-rnns/): Introduction to the concept of attention and specific variants of RNNs."
   ]
  }
 ],
 "metadata": {
  "kernelspec": {
   "display_name": "Python 3",
   "language": "python",
   "name": "python3"
  },
  "language_info": {
   "codemirror_mode": {
    "name": "ipython",
    "version": 3
   },
   "file_extension": ".py",
   "mimetype": "text/x-python",
   "name": "python",
   "nbconvert_exporter": "python",
   "pygments_lexer": "ipython3",
   "version": "3.6.1"
  }
 },
 "nbformat": 4,
 "nbformat_minor": 2
}
