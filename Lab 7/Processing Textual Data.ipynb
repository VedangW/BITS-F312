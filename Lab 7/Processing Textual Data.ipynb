{
 "cells": [
  {
   "cell_type": "markdown",
   "metadata": {},
   "source": [
    "### Processing Natural Langauge Data\n",
    "\n",
    "Natural Language Processing (NLP) is one of the most active fields for Deep Learning research today, and RNNs are the core technology behind most popular NLP applications today.\n",
    "\n",
    "However, to feed language data into any kind of neural network, we need to change words into some appropriate numerical representation. This is easier said than done. Only the part of the data that captures the crux of what we want the network to learn needs to be kept. All redundant information needs to be discarded and the remaining needs to be converted to numerical representation.\n",
    "\n",
    "Words can be converted to numbers using a bunch of methods, most popular of these being [Word2Vec](https://arxiv.org/pdf/1310.4546.pdf) and [GloVe](https://aclweb.org/anthology/D14-1162).\n",
    "\n",
    "**Note**: These papers might be quite difficult to understand for anyone not familiar with NLP. These methods will be briefly described in the lab. Look at the references at the end of this demo for blog articles for easier understanding.\n",
    "\n",
    "Let's begin!"
   ]
  },
  {
   "cell_type": "code",
   "execution_count": 14,
   "metadata": {},
   "outputs": [],
   "source": [
    "import re\n",
    "import string\n",
    "\n",
    "import nltk\n",
    "import numpy as np\n",
    "\n",
    "from nltk.corpus import stopwords\n",
    "from nltk.stem import PorterStemmer\n",
    "from nltk.tokenize import word_tokenize\n",
    "\n",
    "from gensim.models import Word2Vec"
   ]
  },
  {
   "cell_type": "markdown",
   "metadata": {},
   "source": [
    "Datasets usually consist of a set of strings or 'sentences' as below."
   ]
  },
  {
   "cell_type": "code",
   "execution_count": 2,
   "metadata": {},
   "outputs": [
    {
     "name": "stdout",
     "output_type": "stream",
     "text": [
      "The respondents were given a list of work performance areas that might be \n",
      "affected by stress and were asked to identify whether stress increased,\n",
      "decreased, or had no change on their work performance. Only respondents who  \n",
      "indicated stress negatively affected an area were considered in these findings.\n",
      "Of the 15 areas listed, four areas were identified as having a response rate of\n",
      "more than 50.0%. These areas were as follows: job satisfaction/morale (73.9%),\n",
      "courtesy (65.2%), accuracy (52.7%), and creativity (51.6%). Similarly, Schorr (2001) \n",
      "stated that a significant number of employees' creativity is negatively affected by\n",
      "stress. Also, Harrold and Wayland (2002) agreed that morale is strongly affected by stress.\n"
     ]
    }
   ],
   "source": [
    "input_str = \"\"\"The respondents were given a list of work performance areas that might be \n",
    "affected by stress and were asked to identify whether stress increased,\n",
    "decreased, or had no change on their work performance. Only respondents who  \n",
    "indicated stress negatively affected an area were considered in these findings.\n",
    "Of the 15 areas listed, four areas were identified as having a response rate of\n",
    "more than 50.0%. These areas were as follows: job satisfaction/morale (73.9%),\n",
    "courtesy (65.2%), accuracy (52.7%), and creativity (51.6%). Similarly, Schorr (2001) \n",
    "stated that a significant number of employees' creativity is negatively affected by\n",
    "stress. Also, Harrold and Wayland (2002) agreed that morale is strongly affected by stress.\"\"\"\n",
    "\n",
    "print (input_str)"
   ]
  },
  {
   "cell_type": "markdown",
   "metadata": {},
   "source": [
    "We don't really need upper case characters in the string because we're only concerned with the meaning and not the English syntax."
   ]
  },
  {
   "cell_type": "code",
   "execution_count": 3,
   "metadata": {},
   "outputs": [
    {
     "name": "stdout",
     "output_type": "stream",
     "text": [
      "the respondents were given a list of work performance areas that might be \n",
      "affected by stress and were asked to identify whether stress increased,\n",
      "decreased, or had no change on their work performance. only respondents who  \n",
      "indicated stress negatively affected an area were considered in these findings.\n",
      "of the 15 areas listed, four areas were identified as having a response rate of\n",
      "more than 50.0%. these areas were as follows: job satisfaction/morale (73.9%),\n",
      "courtesy (65.2%), accuracy (52.7%), and creativity (51.6%). similarly, schorr (2001) \n",
      "stated that a significant number of employees' creativity is negatively affected by\n",
      "stress. also, harrold and wayland (2002) agreed that morale is strongly affected by stress.\n"
     ]
    }
   ],
   "source": [
    "input_str = input_str.lower()\n",
    "print(input_str)"
   ]
  },
  {
   "cell_type": "markdown",
   "metadata": {},
   "source": [
    "Numbers are also not needed to make sense of a sentence."
   ]
  },
  {
   "cell_type": "code",
   "execution_count": 4,
   "metadata": {},
   "outputs": [
    {
     "name": "stdout",
     "output_type": "stream",
     "text": [
      "the respondents were given a list of work performance areas that might be \n",
      "affected by stress and were asked to identify whether stress increased,\n",
      "decreased, or had no change on their work performance. only respondents who  \n",
      "indicated stress negatively affected an area were considered in these findings.\n",
      "of the  areas listed, four areas were identified as having a response rate of\n",
      "more than .%. these areas were as follows: job satisfaction/morale (.%),\n",
      "courtesy (.%), accuracy (.%), and creativity (.%). similarly, schorr () \n",
      "stated that a significant number of employees' creativity is negatively affected by\n",
      "stress. also, harrold and wayland () agreed that morale is strongly affected by stress.\n"
     ]
    }
   ],
   "source": [
    "input_str = re.sub(r'\\d+', '', input_str)\n",
    "print (input_str)"
   ]
  },
  {
   "cell_type": "markdown",
   "metadata": {},
   "source": [
    "Punctuation marks such as '.', '/', '%' need to be removed."
   ]
  },
  {
   "cell_type": "code",
   "execution_count": 5,
   "metadata": {},
   "outputs": [
    {
     "name": "stdout",
     "output_type": "stream",
     "text": [
      "the respondents were given a list of work performance areas that might be \n",
      "affected by stress and were asked to identify whether stress increased\n",
      "decreased or had no change on their work performance only respondents who  \n",
      "indicated stress negatively affected an area were considered in these findings\n",
      "of the  areas listed four areas were identified as having a response rate of\n",
      "more than  these areas were as follows job satisfactionmorale \n",
      "courtesy  accuracy  and creativity  similarly schorr  \n",
      "stated that a significant number of employees creativity is negatively affected by\n",
      "stress also harrold and wayland  agreed that morale is strongly affected by stress\n"
     ]
    }
   ],
   "source": [
    "input_str = input_str.translate(string.maketrans('', ''), string.punctuation)\n",
    "print (input_str)"
   ]
  },
  {
   "cell_type": "markdown",
   "metadata": {},
   "source": [
    "Remove whitespace from the sentence."
   ]
  },
  {
   "cell_type": "code",
   "execution_count": 6,
   "metadata": {},
   "outputs": [
    {
     "name": "stdout",
     "output_type": "stream",
     "text": [
      "the respondents were given a list of work performance areas that might be affected by stress and were asked to identify whether stress increased decreased or had no change on their work performance only respondents who indicated stress negatively affected an area were considered in these findings of the areas listed four areas were identified as having a response rate of more than these areas were as follows job satisfactionmorale courtesy accuracy and creativity similarly schorr stated that a significant number of employees creativity is negatively affected by stress also harrold and wayland agreed that morale is strongly affected by stress\n"
     ]
    }
   ],
   "source": [
    "input_str = input_str.strip()\n",
    "input_str = input_str.replace('\\n', ' ')\n",
    "input_str = input_str.split()\n",
    "input_str = ' '.join(input_str)\n",
    "print (input_str)"
   ]
  },
  {
   "cell_type": "markdown",
   "metadata": {},
   "source": [
    "We remove stopwords such as ‘with’, ‘they’, ‘own’, ‘an’, ‘be’, etc. and retain just the important words in the sentence."
   ]
  },
  {
   "cell_type": "code",
   "execution_count": 7,
   "metadata": {},
   "outputs": [
    {
     "name": "stdout",
     "output_type": "stream",
     "text": [
      "['respondents', 'given', 'list', 'work', 'performance', 'areas', 'might', 'affected', 'stress', 'asked', 'identify', 'whether', 'stress', 'increased', 'decreased', 'change', 'work', 'performance', 'respondents', 'indicated', 'stress', 'negatively', 'affected', 'area', 'considered', 'findings', 'areas', 'listed', 'four', 'areas', 'identified', 'response', 'rate', 'areas', 'follows', 'job', 'satisfactionmorale', 'courtesy', 'accuracy', 'creativity', 'similarly', 'schorr', 'stated', 'significant', 'number', 'employees', 'creativity', 'negatively', 'affected', 'stress', 'also', 'harrold', 'wayland', 'agreed', 'morale', 'strongly', 'affected', 'stress']\n"
     ]
    }
   ],
   "source": [
    "stop_words = set(stopwords.words('english'))\n",
    "tokens = word_tokenize(input_str)\n",
    "word_list = [i for i in tokens if not i in stop_words]\n",
    "print (word_list)"
   ]
  },
  {
   "cell_type": "markdown",
   "metadata": {},
   "source": [
    "Stemming helps to remove un-needed suffixes from the words, for example, 'responsible' and 'responsibly' need not be different from each other."
   ]
  },
  {
   "cell_type": "code",
   "execution_count": 8,
   "metadata": {},
   "outputs": [
    {
     "name": "stdout",
     "output_type": "stream",
     "text": [
      "['respond', 'given', 'list', 'work', 'perform', 'area', 'might', 'affect', 'stress', 'ask', 'identifi', 'whether', 'stress', 'increas', 'decreas', 'chang', 'work', 'perform', 'respond', 'indic', 'stress', 'neg', 'affect', 'area', 'consid', 'find', 'area', 'list', 'four', 'area', 'identifi', 'respons', 'rate', 'area', 'follow', 'job', 'satisfactionmoral', 'courtesi', 'accuraci', 'creativ', 'similarli', 'schorr', 'state', 'signific', 'number', 'employe', 'creativ', 'neg', 'affect', 'stress', 'also', 'harrold', 'wayland', 'agre', 'moral', 'strongli', 'affect', 'stress']\n"
     ]
    }
   ],
   "source": [
    "stemmer = PorterStemmer()\n",
    "\n",
    "for i in range(len(word_list)):\n",
    "    word_list[i] = str(stemmer.stem(word_list[i]))\n",
    "    \n",
    "print (word_list)"
   ]
  },
  {
   "cell_type": "markdown",
   "metadata": {},
   "source": [
    "Build a Word2Vec model and fit it."
   ]
  },
  {
   "cell_type": "code",
   "execution_count": 9,
   "metadata": {},
   "outputs": [
    {
     "name": "stdout",
     "output_type": "stream",
     "text": [
      "Word2Vec(vocab=40, size=100, alpha=0.025)\n",
      "['respond', 'employe', 'identifi', 'list', 'number', 'indic', 'four', 'increas', 'rate', 'decreas', 'respons', 'follow', 'agre', 'find', 'given', 'harrold', 'area', 'perform', 'neg', 'accuraci', 'also', 'state', 'similarli', 'might', 'courtesi', 'job', 'consid', 'ask', 'affect', 'strongli', 'stress', 'creativ', 'whether', 'work', 'satisfactionmoral', 'signific', 'wayland', 'moral', 'chang', 'schorr']\n"
     ]
    }
   ],
   "source": [
    "sentences = [word_list]\n",
    "\n",
    "model = Word2Vec(sentences, min_count=1)\n",
    "\n",
    "# summarize the loaded model\n",
    "print(model)\n",
    "# summarize vocabulary\n",
    "words = list(model.wv.vocab)\n",
    "print(words)"
   ]
  },
  {
   "cell_type": "markdown",
   "metadata": {},
   "source": [
    "Each word will have an embedding of shape (100,) now. "
   ]
  },
  {
   "cell_type": "code",
   "execution_count": 10,
   "metadata": {},
   "outputs": [
    {
     "name": "stdout",
     "output_type": "stream",
     "text": [
      "[ 3.5384949e-03  4.7483221e-03 -3.5843006e-03 -1.1044769e-03\n",
      " -4.2660623e-03 -2.5788774e-03 -4.3469099e-03  3.2578686e-03\n",
      "  2.0877060e-03  1.3115332e-03  4.5902254e-03 -2.9104399e-03\n",
      "  2.0155932e-03 -4.7545047e-03  1.6934505e-03  3.3903213e-03\n",
      " -1.0174718e-03 -4.7763316e-03 -2.3553873e-04 -2.1271694e-03\n",
      " -2.2382399e-03 -9.5920847e-04 -1.0801679e-03 -2.3765662e-03\n",
      "  4.2132051e-03 -3.9298888e-03  4.6972716e-03 -4.6200706e-03\n",
      "  2.8818669e-03 -6.5038778e-04  3.3707165e-03 -4.6777567e-03\n",
      "  3.3503394e-03  1.8307269e-03  8.8419323e-04  7.4749981e-04\n",
      " -7.0803566e-04 -2.5571852e-03  1.4422839e-03  1.4502538e-03\n",
      "  3.5194965e-04  3.9822333e-03 -4.8684650e-03 -4.2410283e-03\n",
      "  4.6000812e-05  2.0252091e-03 -2.8868285e-03  3.7633956e-03\n",
      " -1.4150848e-04 -4.6955566e-03  2.3112870e-03 -2.3336671e-03\n",
      " -3.1824536e-03  1.5630095e-03 -2.9619681e-03 -9.2530559e-04\n",
      "  3.4820478e-04  4.0429668e-03  2.8331275e-03  3.4296047e-03\n",
      "  1.0550643e-03  3.6308721e-03  2.3182281e-03  4.8227301e-03\n",
      " -2.7674006e-03  2.0625943e-03  2.6241341e-03  4.5913733e-03\n",
      "  9.5926382e-04 -3.2104439e-05  4.7915610e-03 -4.3851319e-03\n",
      " -4.1639945e-04 -2.3183210e-03 -1.8600852e-03 -1.2789189e-03\n",
      " -4.1529816e-04 -1.9014670e-03 -2.7738761e-03  2.9665548e-03\n",
      " -2.2542316e-03 -3.8536261e-03  4.4123414e-03 -1.6307948e-03\n",
      " -2.0584813e-03  4.4474360e-03  3.0365435e-03 -4.7752508e-03\n",
      "  4.8388219e-03  4.5379698e-03  6.0821633e-04  1.4595019e-03\n",
      " -3.9217654e-03 -1.2416680e-03  2.6577965e-03  3.5626614e-03\n",
      " -6.1256549e-04 -1.6252544e-03 -4.1101142e-03 -3.5764270e-03]\n"
     ]
    },
    {
     "name": "stderr",
     "output_type": "stream",
     "text": [
      "/home/vedang/.local/lib/python2.7/site-packages/ipykernel_launcher.py:1: DeprecationWarning: Call to deprecated `__getitem__` (Method will be removed in 4.0.0, use self.wv.__getitem__() instead).\n",
      "  \"\"\"Entry point for launching an IPython kernel.\n"
     ]
    }
   ],
   "source": [
    "print (model['respond'])"
   ]
  },
  {
   "cell_type": "markdown",
   "metadata": {},
   "source": [
    "We create a corresponding embedding for a sentence as follows which is given as input to the RNN."
   ]
  },
  {
   "cell_type": "code",
   "execution_count": 15,
   "metadata": {},
   "outputs": [
    {
     "name": "stdout",
     "output_type": "stream",
     "text": [
      "[[ 3.5384949e-03  4.7483221e-03 -3.5843006e-03 ... -1.6252544e-03\n",
      "  -4.1101142e-03 -3.5764270e-03]\n",
      " [-1.1266468e-03  8.4704446e-04  3.2905641e-03 ... -9.1355795e-04\n",
      "   3.6826341e-03 -2.9229356e-03]\n",
      " [ 2.7327652e-03 -1.7693952e-03 -2.8636151e-03 ... -4.3550294e-04\n",
      "  -2.5210960e-03 -2.6215489e-03]\n",
      " ...\n",
      " [ 4.2308299e-03  4.8839380e-03 -1.0229419e-03 ...  1.8278229e-03\n",
      "  -9.0129266e-05 -5.6695810e-04]\n",
      " [-3.3873913e-03  4.3758447e-03 -4.9723214e-03 ...  1.2708207e-03\n",
      "  -3.9122826e-03  4.4362824e-03]\n",
      " [ 1.3599301e-03 -3.0148069e-03  7.1165850e-04 ... -3.3190767e-03\n",
      "  -2.1911818e-03 -4.3123849e-03]]\n"
     ]
    },
    {
     "name": "stderr",
     "output_type": "stream",
     "text": [
      "/home/vedang/.local/lib/python2.7/site-packages/ipykernel_launcher.py:1: DeprecationWarning: Call to deprecated `__getitem__` (Method will be removed in 4.0.0, use self.wv.__getitem__() instead).\n",
      "  \"\"\"Entry point for launching an IPython kernel.\n"
     ]
    }
   ],
   "source": [
    "embedding = np.vstack([model[i] for i in sentences[0]])\n",
    "print (embedding)"
   ]
  },
  {
   "cell_type": "markdown",
   "metadata": {},
   "source": [
    "**References**\n",
    "\n",
    "- [Text Processing in Python](https://medium.com/@datamonsters/text-preprocessing-in-python-steps-tools-and-examples-bf025f872908): An extensive list of preprocessing methods for text data.\n",
    "- [Word2Vec with Gensim](https://machinelearningmastery.com/develop-word-embeddings-python-gensim/): Building and using the Word2Vec model in Python with Gensim.\n",
    "- [Recurrent Neural Networks in Keras](https://towardsdatascience.com/recurrent-neural-networks-by-example-in-python-ffd204f99470): For code reference.\n",
    "- [Understanding LSTM Networks](http://colah.github.io/posts/2015-08-Understanding-LSTMs/): One of the best tutorials to LSTM networks by Chris Olah.\n",
    "- [Attention and Augmented Neural Networks](https://distill.pub/2016/augmented-rnns/): Introduction to the concept of attention and specific variants of RNNs."
   ]
  }
 ],
 "metadata": {
  "kernelspec": {
   "display_name": "Python 2",
   "language": "python",
   "name": "python2"
  },
  "language_info": {
   "codemirror_mode": {
    "name": "ipython",
    "version": 2
   },
   "file_extension": ".py",
   "mimetype": "text/x-python",
   "name": "python",
   "nbconvert_exporter": "python",
   "pygments_lexer": "ipython2",
   "version": "2.7.15rc1"
  }
 },
 "nbformat": 4,
 "nbformat_minor": 2
}
