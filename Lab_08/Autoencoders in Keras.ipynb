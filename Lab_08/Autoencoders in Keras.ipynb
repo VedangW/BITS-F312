{
 "cells": [
  {
   "cell_type": "markdown",
   "metadata": {},
   "source": [
    "### Autoencoders in Keras\n",
    "\n",
    "In this tutorial, we look at Autoencoders from the perspective of Data Compression/Dimensionality Reduction. "
   ]
  },
  {
   "cell_type": "code",
   "execution_count": 1,
   "metadata": {},
   "outputs": [
    {
     "name": "stderr",
     "output_type": "stream",
     "text": [
      "Using TensorFlow backend.\n"
     ]
    }
   ],
   "source": [
    "import numpy as np\n",
    "import matplotlib.pyplot as plt\n",
    "\n",
    "from keras.models import Model\n",
    "from keras import backend as K\n",
    "from keras.datasets import mnist\n",
    "from keras.layers import Input, Dense, Conv2D, MaxPooling2D, UpSampling2D"
   ]
  },
  {
   "cell_type": "markdown",
   "metadata": {},
   "source": [
    "**Basic Autoencoder**\n",
    "\n",
    "We'll first start with a simple autoencoder which has a one-layered Encoder network and a one-layered Decoder network. Both these layers are Dense layers.\n",
    "\n",
    "We'll use the MNIST dataset for this purpose. To use the MNIST dataset on a Dense network, we need to unroll the image pixel-wise. Since the images are ```28 x 28```, these will be unrolled to ```784``` units in total."
   ]
  },
  {
   "cell_type": "code",
   "execution_count": 2,
   "metadata": {},
   "outputs": [
    {
     "data": {
      "text/plain": [
       "((60000, 784), (10000, 784))"
      ]
     },
     "execution_count": 2,
     "metadata": {},
     "output_type": "execute_result"
    }
   ],
   "source": [
    "(x_train, _), (x_test, _) = mnist.load_data()\n",
    "\n",
    "# Normalize images\n",
    "x_train = x_train.astype('float32') / 255.\n",
    "x_test = x_test.astype('float32') / 255.\n",
    "\n",
    "# Unroll the images\n",
    "x_train = x_train.reshape((len(x_train), np.prod(x_train.shape[1:])))\n",
    "x_test = x_test.reshape((len(x_test), np.prod(x_test.shape[1:])))\n",
    "\n",
    "x_train.shape, x_test.shape"
   ]
  },
  {
   "cell_type": "markdown",
   "metadata": {},
   "source": [
    "You'll notice we don't use the ```Sequential``` way to build models in this tutorial. We instead use the ```Model``` class. This is better when you have to make more customized models. This helps to make models with multiple submodels more easily."
   ]
  },
  {
   "cell_type": "code",
   "execution_count": 4,
   "metadata": {},
   "outputs": [],
   "source": [
    "# this is the size of our encoded representations\n",
    "encoding_dim = 32  # 32 floats -> compression of factor 24.5, assuming the input is 784 floats\n",
    "\n",
    "# this is our input placeholder\n",
    "input_img = Input(shape=(784,))\n",
    "# \"encoded\" is the encoded representation of the input\n",
    "encoded = Dense(encoding_dim, activation='relu')(input_img)\n",
    "# \"decoded\" is the lossy reconstruction of the input\n",
    "decoded = Dense(784, activation='sigmoid')(encoded)\n",
    "\n",
    "# this model maps an input to its reconstruction\n",
    "autoencoder = Model(input_img, decoded)"
   ]
  },
  {
   "cell_type": "code",
   "execution_count": 5,
   "metadata": {},
   "outputs": [],
   "source": [
    "# this model maps an input to its encoded representation\n",
    "encoder = Model(input_img, encoded)"
   ]
  },
  {
   "cell_type": "code",
   "execution_count": 6,
   "metadata": {},
   "outputs": [],
   "source": [
    "# create a placeholder for an encoded (32-dimensional) input\n",
    "encoded_input = Input(shape=(encoding_dim,))\n",
    "# retrieve the last layer of the autoencoder model\n",
    "decoder_layer = autoencoder.layers[-1]\n",
    "# create the decoder model\n",
    "decoder = Model(encoded_input, decoder_layer(encoded_input))"
   ]
  },
  {
   "cell_type": "code",
   "execution_count": 7,
   "metadata": {},
   "outputs": [],
   "source": [
    "autoencoder.compile(optimizer='adadelta', loss='binary_crossentropy')"
   ]
  },
  {
   "cell_type": "markdown",
   "metadata": {},
   "source": [
    "To train the model, we simply put the input tensor in the place of ```y_train```."
   ]
  },
  {
   "cell_type": "code",
   "execution_count": 8,
   "metadata": {},
   "outputs": [
    {
     "name": "stdout",
     "output_type": "stream",
     "text": [
      "WARNING:tensorflow:From /home/vedang/.local/lib/python2.7/site-packages/tensorflow/python/ops/math_ops.py:3066: to_int32 (from tensorflow.python.ops.math_ops) is deprecated and will be removed in a future version.\n",
      "Instructions for updating:\n",
      "Use tf.cast instead.\n",
      "Train on 60000 samples, validate on 10000 samples\n",
      "Epoch 1/50\n",
      "60000/60000 [==============================] - 5s 79us/step - loss: 0.3486 - val_loss: 0.2698\n",
      "Epoch 2/50\n",
      "60000/60000 [==============================] - 4s 73us/step - loss: 0.2617 - val_loss: 0.2494\n",
      "Epoch 3/50\n",
      "60000/60000 [==============================] - 4s 74us/step - loss: 0.2388 - val_loss: 0.2263\n",
      "Epoch 4/50\n",
      "60000/60000 [==============================] - 4s 75us/step - loss: 0.2190 - val_loss: 0.2092\n",
      "Epoch 5/50\n",
      "60000/60000 [==============================] - 4s 74us/step - loss: 0.2043 - val_loss: 0.1968\n",
      "Epoch 6/50\n",
      "60000/60000 [==============================] - 5s 75us/step - loss: 0.1937 - val_loss: 0.1878\n",
      "Epoch 7/50\n",
      "60000/60000 [==============================] - 5s 75us/step - loss: 0.1854 - val_loss: 0.1804\n",
      "Epoch 8/50\n",
      "60000/60000 [==============================] - 5s 76us/step - loss: 0.1784 - val_loss: 0.1739\n",
      "Epoch 9/50\n",
      "60000/60000 [==============================] - 5s 76us/step - loss: 0.1723 - val_loss: 0.1682\n",
      "Epoch 10/50\n",
      "60000/60000 [==============================] - 5s 76us/step - loss: 0.1670 - val_loss: 0.1632\n",
      "Epoch 11/50\n",
      "60000/60000 [==============================] - 5s 77us/step - loss: 0.1624 - val_loss: 0.1590\n",
      "Epoch 12/50\n",
      "60000/60000 [==============================] - 5s 77us/step - loss: 0.1583 - val_loss: 0.1549\n",
      "Epoch 13/50\n",
      "60000/60000 [==============================] - 5s 77us/step - loss: 0.1545 - val_loss: 0.1513\n",
      "Epoch 14/50\n",
      "60000/60000 [==============================] - 5s 76us/step - loss: 0.1510 - val_loss: 0.1479\n",
      "Epoch 15/50\n",
      "60000/60000 [==============================] - 5s 76us/step - loss: 0.1477 - val_loss: 0.1447\n",
      "Epoch 16/50\n",
      "60000/60000 [==============================] - 5s 76us/step - loss: 0.1447 - val_loss: 0.1418\n",
      "Epoch 17/50\n",
      "60000/60000 [==============================] - 5s 81us/step - loss: 0.1418 - val_loss: 0.1391\n",
      "Epoch 18/50\n",
      "60000/60000 [==============================] - 5s 78us/step - loss: 0.1391 - val_loss: 0.1365\n",
      "Epoch 19/50\n",
      "60000/60000 [==============================] - 5s 91us/step - loss: 0.1366 - val_loss: 0.1339\n",
      "Epoch 20/50\n",
      "60000/60000 [==============================] - 5s 81us/step - loss: 0.1342 - val_loss: 0.1315\n",
      "Epoch 21/50\n",
      "60000/60000 [==============================] - 5s 77us/step - loss: 0.1319 - val_loss: 0.1292\n",
      "Epoch 22/50\n",
      "60000/60000 [==============================] - 5s 82us/step - loss: 0.1297 - val_loss: 0.1270\n",
      "Epoch 23/50\n",
      "60000/60000 [==============================] - 5s 87us/step - loss: 0.1276 - val_loss: 0.1250\n",
      "Epoch 24/50\n",
      "60000/60000 [==============================] - 4s 75us/step - loss: 0.1256 - val_loss: 0.1231\n",
      "Epoch 25/50\n",
      "60000/60000 [==============================] - 5s 90us/step - loss: 0.1236 - val_loss: 0.1211\n",
      "Epoch 26/50\n",
      "60000/60000 [==============================] - 5s 82us/step - loss: 0.1218 - val_loss: 0.1193\n",
      "Epoch 27/50\n",
      "60000/60000 [==============================] - 5s 77us/step - loss: 0.1201 - val_loss: 0.1177\n",
      "Epoch 28/50\n",
      "60000/60000 [==============================] - 5s 76us/step - loss: 0.1185 - val_loss: 0.1161\n",
      "Epoch 29/50\n",
      "60000/60000 [==============================] - 5s 77us/step - loss: 0.1170 - val_loss: 0.1147\n",
      "Epoch 30/50\n",
      "60000/60000 [==============================] - 5s 78us/step - loss: 0.1156 - val_loss: 0.1133\n",
      "Epoch 31/50\n",
      "60000/60000 [==============================] - 5s 77us/step - loss: 0.1143 - val_loss: 0.1121\n",
      "Epoch 32/50\n",
      "60000/60000 [==============================] - 5s 77us/step - loss: 0.1132 - val_loss: 0.1110\n",
      "Epoch 33/50\n",
      "60000/60000 [==============================] - 5s 79us/step - loss: 0.1121 - val_loss: 0.1099\n",
      "Epoch 34/50\n",
      "60000/60000 [==============================] - 5s 81us/step - loss: 0.1111 - val_loss: 0.1090\n",
      "Epoch 35/50\n",
      "60000/60000 [==============================] - 5s 80us/step - loss: 0.1102 - val_loss: 0.1081\n",
      "Epoch 36/50\n",
      "60000/60000 [==============================] - 5s 79us/step - loss: 0.1094 - val_loss: 0.1074\n",
      "Epoch 37/50\n",
      "60000/60000 [==============================] - 5s 79us/step - loss: 0.1086 - val_loss: 0.1066\n",
      "Epoch 38/50\n",
      "60000/60000 [==============================] - 5s 79us/step - loss: 0.1079 - val_loss: 0.1059\n",
      "Epoch 39/50\n",
      "60000/60000 [==============================] - 5s 78us/step - loss: 0.1073 - val_loss: 0.1053\n",
      "Epoch 40/50\n",
      "60000/60000 [==============================] - 5s 82us/step - loss: 0.1067 - val_loss: 0.1047\n",
      "Epoch 41/50\n",
      "60000/60000 [==============================] - 6s 99us/step - loss: 0.1061 - val_loss: 0.1042\n",
      "Epoch 42/50\n",
      "60000/60000 [==============================] - 5s 78us/step - loss: 0.1056 - val_loss: 0.1037\n",
      "Epoch 43/50\n",
      "60000/60000 [==============================] - 5s 79us/step - loss: 0.1051 - val_loss: 0.1032\n",
      "Epoch 44/50\n",
      "60000/60000 [==============================] - 5s 79us/step - loss: 0.1046 - val_loss: 0.1027\n",
      "Epoch 45/50\n",
      "60000/60000 [==============================] - 5s 87us/step - loss: 0.1042 - val_loss: 0.1023\n",
      "Epoch 46/50\n",
      "60000/60000 [==============================] - 5s 80us/step - loss: 0.1038 - val_loss: 0.1019\n",
      "Epoch 47/50\n",
      "60000/60000 [==============================] - 5s 78us/step - loss: 0.1034 - val_loss: 0.1015\n",
      "Epoch 48/50\n",
      "60000/60000 [==============================] - 5s 77us/step - loss: 0.1030 - val_loss: 0.1012\n",
      "Epoch 49/50\n",
      "60000/60000 [==============================] - 5s 79us/step - loss: 0.1027 - val_loss: 0.1008\n",
      "Epoch 50/50\n",
      "60000/60000 [==============================] - 5s 79us/step - loss: 0.1023 - val_loss: 0.1005\n"
     ]
    },
    {
     "data": {
      "text/plain": [
       "<keras.callbacks.History at 0x7f1f99830950>"
      ]
     },
     "execution_count": 8,
     "metadata": {},
     "output_type": "execute_result"
    }
   ],
   "source": [
    "autoencoder.fit(x_train, x_train,\n",
    "                epochs=50,\n",
    "                batch_size=256,\n",
    "                shuffle=True,\n",
    "                validation_data=(x_test, x_test))"
   ]
  },
  {
   "cell_type": "code",
   "execution_count": 9,
   "metadata": {},
   "outputs": [],
   "source": [
    "# encode and decode some digits\n",
    "# note that we take them from the *test* set\n",
    "encoded_imgs = encoder.predict(x_test)\n",
    "decoded_imgs = decoder.predict(encoded_imgs)"
   ]
  },
  {
   "cell_type": "markdown",
   "metadata": {},
   "source": [
    "Let's visualize the outputs of the decoder model to get an idea of how this autoencoder did."
   ]
  },
  {
   "cell_type": "code",
   "execution_count": 10,
   "metadata": {},
   "outputs": [
    {
     "data": {
      "image/png": "[encoded data removed]",
      "text/plain": [
       "<Figure size 1440x288 with 20 Axes>"
      ]
     },
     "metadata": {
      "needs_background": "light"
     },
     "output_type": "display_data"
    }
   ],
   "source": [
    "n = 10  # how many digits we will display\n",
    "plt.figure(figsize=(20, 4))\n",
    "for i in range(n):\n",
    "    # display original\n",
    "    ax = plt.subplot(2, n, i + 1)\n",
    "    plt.imshow(x_test[i].reshape(28, 28))\n",
    "    plt.gray()\n",
    "    ax.get_xaxis().set_visible(False)\n",
    "    ax.get_yaxis().set_visible(False)\n",
    "\n",
    "    # display reconstruction\n",
    "    ax = plt.subplot(2, n, i + 1 + n)\n",
    "    plt.imshow(decoded_imgs[i].reshape(28, 28))\n",
    "    plt.gray()\n",
    "    ax.get_xaxis().set_visible(False)\n",
    "    ax.get_yaxis().set_visible(False)\n",
    "    \n",
    "plt.show()"
   ]
  },
  {
   "cell_type": "markdown",
   "metadata": {},
   "source": [
    "**Deep Convolutional Autoencoder**\n",
    "\n",
    "Here we look at a more specialized autoencoder, one with Convolutional and Max Pooling layers instead of Dense layers and having more than one layer in the Encoder and Decoder networks.\n",
    "\n",
    "This makes more sense of course because the MNIST dataset is an image dataset. Let's start with loading the dataset."
   ]
  },
  {
   "cell_type": "code",
   "execution_count": 11,
   "metadata": {},
   "outputs": [],
   "source": [
    "(x_train, _), (x_test, _) = mnist.load_data()\n",
    "\n",
    "x_train = x_train.astype('float32') / 255.\n",
    "x_test = x_test.astype('float32') / 255.\n",
    "x_train = np.reshape(x_train, (len(x_train), 28, 28, 1))  # adapt this if using `channels_first` image data format\n",
    "x_test = np.reshape(x_test, (len(x_test), 28, 28, 1))  # adapt this if using `channels_first` image data format"
   ]
  },
  {
   "cell_type": "markdown",
   "metadata": {},
   "source": [
    "Create the model."
   ]
  },
  {
   "cell_type": "code",
   "execution_count": 12,
   "metadata": {},
   "outputs": [],
   "source": [
    "input_img = Input(shape=(28, 28, 1))  # adapt this if using `channels_first` image data format\n",
    "\n",
    "x = Conv2D(16, (3, 3), activation='relu', padding='same')(input_img)\n",
    "x = MaxPooling2D((2, 2), padding='same')(x)\n",
    "x = Conv2D(8, (3, 3), activation='relu', padding='same')(x)\n",
    "x = MaxPooling2D((2, 2), padding='same')(x)\n",
    "x = Conv2D(8, (3, 3), activation='relu', padding='same')(x)\n",
    "encoded = MaxPooling2D((2, 2), padding='same')(x)\n",
    "\n",
    "# at this point the representation is (4, 4, 8) i.e. 128-dimensional\n",
    "\n",
    "x = Conv2D(8, (3, 3), activation='relu', padding='same')(encoded)\n",
    "x = UpSampling2D((2, 2))(x)\n",
    "x = Conv2D(8, (3, 3), activation='relu', padding='same')(x)\n",
    "x = UpSampling2D((2, 2))(x)\n",
    "x = Conv2D(16, (3, 3), activation='relu')(x)\n",
    "x = UpSampling2D((2, 2))(x)\n",
    "decoded = Conv2D(1, (3, 3), activation='sigmoid', padding='same')(x)\n",
    "\n",
    "autoencoder = Model(input_img, decoded)\n",
    "autoencoder.compile(optimizer='adadelta', loss='binary_crossentropy')"
   ]
  },
  {
   "cell_type": "code",
   "execution_count": null,
   "metadata": {},
   "outputs": [
    {
     "name": "stdout",
     "output_type": "stream",
     "text": [
      "Train on 60000 samples, validate on 10000 samples\n",
      "Epoch 1/5\n",
      "60000/60000 [==============================] - 70s 1ms/step - loss: 0.2264 - val_loss: 0.1696\n",
      "Epoch 2/5\n",
      "60000/60000 [==============================] - 68s 1ms/step - loss: 0.1609 - val_loss: 0.1483\n",
      "Epoch 3/5\n",
      "28160/60000 [=============>................] - ETA: 32s - loss: 0.1473"
     ]
    }
   ],
   "source": [
    "autoencoder.fit(x_train, x_train,\n",
    "                epochs=5,\n",
    "                batch_size=128,\n",
    "                shuffle=True,\n",
    "                validation_data=(x_test, x_test))"
   ]
  },
  {
   "cell_type": "code",
   "execution_count": null,
   "metadata": {},
   "outputs": [],
   "source": [
    "autoencoder.summary()"
   ]
  },
  {
   "cell_type": "code",
   "execution_count": 19,
   "metadata": {},
   "outputs": [
    {
     "data": {
      "image/png": "[encoded data removed]",
      "text/plain": [
       "<Figure size 1440x288 with 20 Axes>"
      ]
     },
     "metadata": {
      "needs_background": "light"
     },
     "output_type": "display_data"
    }
   ],
   "source": [
    "decoded_imgs = autoencoder.predict(x_test)\n",
    "\n",
    "n = 10\n",
    "plt.figure(figsize=(20, 4))\n",
    "for i in range(1, n+1):\n",
    "    # display original\n",
    "    ax = plt.subplot(2, n, i)\n",
    "    plt.imshow(x_test[i].reshape(28, 28))\n",
    "    plt.gray()\n",
    "    ax.get_xaxis().set_visible(False)\n",
    "    ax.get_yaxis().set_visible(False)\n",
    "\n",
    "    # display reconstruction\n",
    "    ax = plt.subplot(2, n, i + n)\n",
    "    plt.imshow(decoded_imgs[i].reshape(28, 28))\n",
    "    plt.gray()\n",
    "    ax.get_xaxis().set_visible(False)\n",
    "    ax.get_yaxis().set_visible(False)\n",
    "plt.show()"
   ]
  }
 ],
 "metadata": {
  "kernelspec": {
   "display_name": "Python 3",
   "language": "python",
   "name": "python3"
  },
  "language_info": {
   "codemirror_mode": {
    "name": "ipython",
    "version": 2
   },
   "file_extension": ".py",
   "mimetype": "text/x-python",
   "name": "python",
   "nbconvert_exporter": "python",
   "pygments_lexer": "ipython2",
   "version": "2.7.15rc1"
  }
 },
 "nbformat": 4,
 "nbformat_minor": 2
}
