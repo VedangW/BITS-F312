{
 "cells": [
  {
   "cell_type": "markdown",
   "metadata": {},
   "source": [
    "### CNN for Image Recognition\n",
    "\n",
    "This demo gives a walkthrough of how to use a CNN using Keras, tested on the MNIST dataset."
   ]
  },
  {
   "cell_type": "code",
   "execution_count": 1,
   "metadata": {},
   "outputs": [
    {
     "name": "stderr",
     "output_type": "stream",
     "text": [
      "Using TensorFlow backend.\n"
     ]
    }
   ],
   "source": [
    "import numpy as np\n",
    "import matplotlib.pyplot as plt\n",
    "\n",
    "import warnings\n",
    "warnings.filterwarnings('ignore')\n",
    "\n",
    "from keras.datasets import mnist\n",
    "from keras.utils import np_utils\n",
    "from keras.models import Sequential\n",
    "from keras.layers import Conv2D, MaxPool2D, Flatten, Dense, Dropout"
   ]
  },
  {
   "cell_type": "markdown",
   "metadata": {},
   "source": [
    "The [MNIST Dataset](https://en.wikipedia.org/wiki/MNIST_database) is a dataset of handwritten digits, famously used for image recognition (telling which digit is written in the image) and other purposes in the ML/DL paradigm. It is still used as a baseline measure in several Machine Learning tasks (see [Generative Adversarial Networks](https://papers.nips.cc/paper/5423-generative-adversarial-nets.pdf); we'll look at this architecture near the end of the course). The images look something like this:\n",
    "\n",
    "<img src=\"data/mnist_dataset.png\" alt=\"The MNIST Dataset\" width=\"400\"/>"
   ]
  },
  {
   "cell_type": "code",
   "execution_count": 2,
   "metadata": {},
   "outputs": [
    {
     "data": {
      "text/plain": [
       "((60000, 28, 28), (60000,), (10000, 28, 28), (10000,))"
      ]
     },
     "execution_count": 2,
     "metadata": {},
     "output_type": "execute_result"
    }
   ],
   "source": [
    "# Load data\n",
    "(x_train, y_train), (x_test, y_test) = mnist.load_data()\n",
    "x_train.shape, y_train.shape, x_test.shape, y_test.shape"
   ]
  },
  {
   "cell_type": "code",
   "execution_count": 3,
   "metadata": {},
   "outputs": [
    {
     "name": "stdout",
     "output_type": "stream",
     "text": [
      "Shape of x_samp = (28, 28)\n"
     ]
    },
    {
     "data": {
      "image/png": "[encoded data removed]",
      "text/plain": [
       "<Figure size 432x288 with 1 Axes>"
      ]
     },
     "metadata": {
      "needs_background": "light"
     },
     "output_type": "display_data"
    }
   ],
   "source": [
    "# Sample image\n",
    "x_samp, y_samp = x_train[0], y_train[0]\n",
    "\n",
    "print (\"Shape of x_samp =\", x_samp.shape)\n",
    "plt.imshow(x_samp)\n",
    "plt.show()"
   ]
  },
  {
   "cell_type": "code",
   "execution_count": 4,
   "metadata": {},
   "outputs": [],
   "source": [
    "EPOCHS = 2\n",
    "NUM_CLASSES = 10 # (0, 1, 2, ..., 9)"
   ]
  },
  {
   "cell_type": "markdown",
   "metadata": {},
   "source": [
    "**Input Shapes**\n",
    "\n",
    "The first Conv2D layer needs a parameter ```input_shape``` which tells it what shape of image to take as input. A lot of people have difficulty in understanding how to shape the input tensor and what to write in the ```input_shape``` parameter.\n",
    "\n",
    "Images can be represented (formatted) in 2 ways:\n",
    "1. Channels First: The shape of the input image is $(n_c, n_h, n_w)$. So in this case, it'll be ```(1, 28, 28)```.\n",
    "2. Channels Last: The shape of the input image is $(n_h, n_w, n_c)$. So in this case it'll be ```(28, 28, 1)```.\n",
    "\n",
    "There is no good consensus on which way of image formatting is better and convolutions work well in both cases. Let's assume we're using Channels Last in this case. \n",
    "\n",
    "**Note:** Whether to use channels first or channels last is probably fixed for your laptop. You might want to check out this link: [Correct way to change image channel ordering](https://stackoverflow.com/questions/43829711/what-is-the-correct-way-to-change-image-channel-ordering-between-channels-first?rq=1).\n",
    "\n",
    "The ```input_shape``` parameter needs a 3-dimensional value. So even if your image is grayscale and has a 2D shape, as in this case (```(28, 28, 1)```), you need to give a 3D value. In this case it should be ```(28, 28, 1)```.\n",
    "\n",
    "As for the input tensor, ```x_train```, it needs to be a 4D tensor, with a shape like this: $(m, n_c, n_h, n_w)$, where $m$ is the number of samples. If you image is grayscale and has a 2D shape, your input tensor will be 3D (like ```(60000, 28, 28)```) In this case you need to reshape the input from ```(60000, 28, 28)``` to ```(60000, 28, 28, 1)```.\n",
    "\n",
    "Normalization helps with faster convergence.\n",
    "\n",
    "Finally, since the number of classes is > 1 (multi-class classification), we need to one-hot encode the labels. Also, the number of neurons in the last layer will be equal to the number of classes and the activation of the last layer will be softmax."
   ]
  },
  {
   "cell_type": "code",
   "execution_count": 5,
   "metadata": {},
   "outputs": [],
   "source": [
    "x_train = x_train.reshape(x_train.shape[0], 28, 28, 1).astype('float32')\n",
    "x_test = x_test.reshape(x_test.shape[0], 28, 28, 1).astype('float32')\n",
    "\n",
    "# Normalization\n",
    "x_train /= 255.\n",
    "x_test /= 255.\n",
    "\n",
    "y_train = np_utils.to_categorical(y_train)\n",
    "y_test = np_utils.to_categorical(y_test)"
   ]
  },
  {
   "cell_type": "markdown",
   "metadata": {},
   "source": [
    "**General Architecture**\n",
    "\n",
    "The architecture of a CNN is simple. The first part comprises of a bunch of units, where each unit is a set of Convolutional layers followed by a Max Pooling layer. So that part may look like this:\n",
    "\n",
    "```CONV -> CONV -> MAXPOOL -> CONV -> CONV -> MAXPOOL```\n",
    "\n",
    "All through this part, the activations are 3D tensors. The next part involves unrolling the 3D tensor to a 1D tensor using a ```Flatten``` layer and then using ```Dense``` layers to propagate, with the last layer ending with a certain number of neurons, which depends on if it is a regression or classification problem (see the demo on MLPs). This can be something like this:\n",
    "\n",
    "```FLATTEN -> DENSE -> DENSE```\n",
    "\n",
    "So the CNN might look like this:\n",
    "\n",
    "```CONV -> CONV -> MAXPOOL -> CONV -> CONV -> MAXPOOL -> FLATTEN -> DENSE -> DENSE```\n",
    "\n",
    "For Conv layers, filter sizes of ```(3, 3)``` or ```(5, 5)``` and stride size of ```1``` usually work well. For Max Pooling layers, pool size of ```(2, 2)``` and strides of ```2``` typically works."
   ]
  },
  {
   "cell_type": "code",
   "execution_count": 7,
   "metadata": {},
   "outputs": [],
   "source": [
    "model = Sequential()\n",
    "\n",
    "model.add(Conv2D(32, (5, 5), input_shape=(28, 28, 1), activation='relu'))\n",
    "model.add(MaxPool2D(pool_size=(2, 2)))\n",
    "model.add(Dropout(0.2))\n",
    "model.add(Flatten())\n",
    "model.add(Dense(128, activation='relu'))\n",
    "model.add(Dense(NUM_CLASSES, activation='softmax'))\n",
    "\n",
    "model.compile(loss='categorical_crossentropy', optimizer='adam', metrics=['accuracy'])"
   ]
  },
  {
   "cell_type": "code",
   "execution_count": 9,
   "metadata": {},
   "outputs": [
    {
     "name": "stdout",
     "output_type": "stream",
     "text": [
      "Train on 60000 samples, validate on 10000 samples\n",
      "Epoch 1/2\n",
      "60000/60000 [==============================] - 59s 991us/step - loss: 0.1040 - acc: 0.9687 - val_loss: 0.0637 - val_acc: 0.9791\n",
      "Epoch 2/2\n",
      "60000/60000 [==============================] - 63s 1ms/step - loss: 0.0504 - acc: 0.9842 - val_loss: 0.0361 - val_acc: 0.9881\n"
     ]
    },
    {
     "data": {
      "text/plain": [
       "<keras.callbacks.History at 0x7fc76b53fd68>"
      ]
     },
     "execution_count": 9,
     "metadata": {},
     "output_type": "execute_result"
    }
   ],
   "source": [
    "model.fit(x_train, y_train, validation_data=(x_test, y_test), epochs=EPOCHS, batch_size=40)"
   ]
  },
  {
   "cell_type": "markdown",
   "metadata": {},
   "source": [
    "**Summary**\n",
    "\n",
    "Let's look at the summary of the model."
   ]
  },
  {
   "cell_type": "code",
   "execution_count": 10,
   "metadata": {},
   "outputs": [
    {
     "name": "stdout",
     "output_type": "stream",
     "text": [
      "_________________________________________________________________\n",
      "Layer (type)                 Output Shape              Param #   \n",
      "=================================================================\n",
      "conv2d_2 (Conv2D)            (None, 24, 24, 32)        832       \n",
      "_________________________________________________________________\n",
      "max_pooling2d_2 (MaxPooling2 (None, 12, 12, 32)        0         \n",
      "_________________________________________________________________\n",
      "dropout_2 (Dropout)          (None, 12, 12, 32)        0         \n",
      "_________________________________________________________________\n",
      "flatten_2 (Flatten)          (None, 4608)              0         \n",
      "_________________________________________________________________\n",
      "dense_3 (Dense)              (None, 128)               589952    \n",
      "_________________________________________________________________\n",
      "dense_4 (Dense)              (None, 10)                1290      \n",
      "=================================================================\n",
      "Total params: 592,074\n",
      "Trainable params: 592,074\n",
      "Non-trainable params: 0\n",
      "_________________________________________________________________\n"
     ]
    }
   ],
   "source": [
    "model.summary()"
   ]
  },
  {
   "cell_type": "markdown",
   "metadata": {},
   "source": [
    "**References**\n",
    "\n",
    "Some better ConvNet architectures\n",
    "1. [ResNets](https://towardsdatascience.com/an-overview-of-resnet-and-its-variants-5281e2f56035)\n",
    "2. [Inception Nets](https://towardsdatascience.com/a-simple-guide-to-the-versions-of-the-inception-network-7fc52b863202)"
   ]
  }
 ],
 "metadata": {
  "kernelspec": {
   "display_name": "Python 3",
   "language": "python",
   "name": "python3"
  },
  "language_info": {
   "codemirror_mode": {
    "name": "ipython",
    "version": 3
   },
   "file_extension": ".py",
   "mimetype": "text/x-python",
   "name": "python",
   "nbconvert_exporter": "python",
   "pygments_lexer": "ipython3",
   "version": "3.6.7"
  }
 },
 "nbformat": 4,
 "nbformat_minor": 2
}
