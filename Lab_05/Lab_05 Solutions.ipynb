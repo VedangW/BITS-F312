{
 "cells": [
  {
   "cell_type": "markdown",
   "metadata": {},
   "source": [
    "### Binary Classification on Devanagari Characters\n",
    "\n",
    "Devanagari is the script in which Sanskrit, Hindi and Marathi (at least) are written. Optical Character Recognition algorithms aim to train a model to recognize which character of a language is written in an image (we'll discuss this in the next lab). For instance, consider this image:\n",
    "\n",
    "<img src=\"q_data/g.jpg\" alt=\"The character G\" width=\"200\"/>\n",
    "\n",
    "The model should predict that the handwritten English character in this image is G. A similar OCR can be developed for Devanagari characters (this was the course project in the Machine Learning course in 2017-18, Sem 1).\n",
    "\n",
    "**BUT**\n",
    "\n",
    "We're not going to implement this right now. It's not possible to even train such a model in 2 hours. Here is what you have to do instead:\n",
    "\n",
    "Implement a binary classifier which predicts if the given image contains a Devanagari character or not. Note that numbers and purna viraam (full stops) are not characters and everything else is.\n",
    "\n",
    "***\n",
    "**Dataset Description**\n",
    "\n",
    "There is a directory named ```q_data``` in the same directory as this notebook which contains two directories, ```chars``` (containing images of characters) and ```non_chars``` (containing images of non-characters).\n",
    "\n",
    "This dataset is part of the dataset developed by the TAs and students in the Machine Learning course (BITS F464) in 2017-18, Sem 1."
   ]
  },
  {
   "cell_type": "code",
   "execution_count": 1,
   "metadata": {},
   "outputs": [
    {
     "name": "stderr",
     "output_type": "stream",
     "text": [
      "Using TensorFlow backend.\n"
     ]
    }
   ],
   "source": [
    "import os\n",
    "import cv2\n",
    "import numpy as np\n",
    "import matplotlib.pyplot as plt\n",
    "%matplotlib inline\n",
    "\n",
    "from tqdm import tqdm\n",
    "from keras.models import Sequential\n",
    "from keras.utils import to_categorical\n",
    "from keras.layers import Conv2D, MaxPooling2D, Dense, Flatten"
   ]
  },
  {
   "cell_type": "code",
   "execution_count": 2,
   "metadata": {},
   "outputs": [],
   "source": [
    "## Utility functions\n",
    "\n",
    "def show_image(img):\n",
    "    \"\"\" Call this to plot the image. \"\"\"\n",
    "    plt.imshow(img)\n",
    "    plt.show()"
   ]
  },
  {
   "cell_type": "markdown",
   "metadata": {},
   "source": [
    "You'll notice that the dataset only has 101 images in total. If only there was some way we could have more such data. Hmmm...\n",
    "\n",
    "So you've noticed you need data augmentation for this application. But what kind? Do you really want to tell your model that the mirror image of a Devanagari 'ya' for example is also a Devanagari character? \n",
    "\n",
    "We can apply several other ways of data augmentation here. We'll go with up-shifting and right-shifting. \n",
    "\n",
    "The following two functions up-shift and down-shift images by ```pixel``` number of pixels. Hint: Treat images as numpy arrays for this."
   ]
  },
  {
   "cell_type": "code",
   "execution_count": 3,
   "metadata": {},
   "outputs": [],
   "source": [
    "def translate_up(img, pixels=3):\n",
    "    \"\"\" Shift image, 'img' up by 'pixel'\n",
    "        number of pixels.\n",
    "    \"\"\"\n",
    "    width = img.shape[0]\n",
    "    height = img.shape[1]\n",
    "    \n",
    "    for j in range(width):\n",
    "        for i in range(height):\n",
    "            if (j < width - pixels and j > pixels):\n",
    "                img[j][i] = img[j+pixels][i]\n",
    "            else:\n",
    "                img[j][i] = 255\n",
    "        \n",
    "    return img\n",
    "\n",
    "def translate_down(img, pixels=3):\n",
    "    \"\"\" Shift image, 'img' down by 'pixel'\n",
    "        number of pixels.\n",
    "    \"\"\"\n",
    "    width = img.shape[0]\n",
    "    height = img.shape[1]\n",
    "    \n",
    "    for j in range(width, 1, -1):\n",
    "        for i in range(height):\n",
    "            if (j < width and j > pixels):\n",
    "                img[j][i] = img[j-pixels][i]\n",
    "                \n",
    "    return img"
   ]
  },
  {
   "cell_type": "markdown",
   "metadata": {},
   "source": [
    "We'll load and preprocess the image at the same time.\n",
    "\n",
    "Here's what the preprocessing will involve:\n",
    "1. The sizes of different images are different. The CNN we'll make won't like this. We'll need to fix it. (See [Resizing image](https://medium.com/@manivannan_data/resize-image-using-opencv-python-d2cdbbc480f0))\n",
    "2. The images are kind of grainy (minute white dots in the image). We need to make them into a single continuous blob. (See [Morphological Transforms](https://docs.opencv.org/3.0-beta/doc/py_tutorials/py_imgproc/py_morphological_ops/py_morphological_ops.html), [Denoising](https://docs.opencv.org/3.0-beta/modules/photo/doc/denoising.html))\n",
    "3. Do we really need such rich color gradients in this image? Can we just make the foreground into one solid color and the background into another? (See [Adaptive Thresholding and Otsu's Binarization](https://docs.opencv.org/3.4/d7/d4d/tutorial_py_thresholding.html))"
   ]
  },
  {
   "cell_type": "code",
   "execution_count": 16,
   "metadata": {},
   "outputs": [],
   "source": [
    "def transform_image(img_path, translate=None):\n",
    "    \"\"\" Preprocess an image to give as an input to the\n",
    "        ConvNet. \n",
    "        \n",
    "        Parameters\n",
    "        ----------\n",
    "        img_path: str\n",
    "            Path to image\n",
    "        translate: None, 'up' or 'down'\n",
    "            If to translate the image and how to translate.\n",
    "            \n",
    "        Returns\n",
    "        -------\n",
    "        img: cv2 image\n",
    "            The original image read.\n",
    "        final: cv2 image\n",
    "            The transformed image.\n",
    "    \"\"\"\n",
    "    # Initialize kernel for morphological transforms\n",
    "    kernel = np.ones((5,5),np.uint8)\n",
    "\n",
    "    # Read the image as grayscale\n",
    "    img = cv2.imread(img_path, cv2.IMREAD_GRAYSCALE)\n",
    "\n",
    "    resized = cv2.resize(img, (218, 192), interpolation=cv2.INTER_AREA)\n",
    "\n",
    "    # Denoising by blurring\n",
    "    denoised = cv2.fastNlMeansDenoising(resized, 60, 7, 21)\n",
    "\n",
    "    # Applying Otsu's binarization\n",
    "    ret, thresh = cv2.threshold(denoised, 0, 255, cv2.THRESH_BINARY+cv2.THRESH_OTSU)\n",
    "\n",
    "    # Morphological transforms - opening and closing the picture\n",
    "    opening = cv2.morphologyEx(thresh, cv2.MORPH_OPEN, kernel)\n",
    "    closing = cv2.morphologyEx(opening, cv2.MORPH_CLOSE, kernel)\n",
    "\n",
    "    # Resize to a smaller size\n",
    "    final = cv2.resize(closing, (130, 118), interpolation=cv2.INTER_AREA)\n",
    "    final = closing\n",
    "    if translate is not None:\n",
    "        if translate == 'up':\n",
    "            final = translate_up(final)\n",
    "        elif translate == 'down':\n",
    "            final = translate_down(final)\n",
    "        \n",
    "    return img, final"
   ]
  },
  {
   "cell_type": "markdown",
   "metadata": {},
   "source": [
    "Check your handiwork"
   ]
  },
  {
   "cell_type": "code",
   "execution_count": 17,
   "metadata": {},
   "outputs": [],
   "source": [
    "img, final = transform_image('q_data/chars/209.png')"
   ]
  },
  {
   "cell_type": "code",
   "execution_count": 18,
   "metadata": {},
   "outputs": [
    {
     "data": {
      "image/png": "[encoded data removed]",
      "text/plain": [
       "<Figure size 432x288 with 1 Axes>"
      ]
     },
     "metadata": {
      "needs_background": "light"
     },
     "output_type": "display_data"
    }
   ],
   "source": [
    "show_image(final)"
   ]
  },
  {
   "cell_type": "code",
   "execution_count": 9,
   "metadata": {},
   "outputs": [],
   "source": [
    "def load_data():\n",
    "    \"\"\" Function to load data. \"\"\"\n",
    "    \n",
    "    chars = os.listdir('chars')\n",
    "    non_chars = os.listdir('non_chars')\n",
    "    \n",
    "    labels = []\n",
    "    \n",
    "    # Load char images\n",
    "    char_images = []\n",
    "    for i in tqdm(range(len(chars)), desc='Preprocessing chars...'):\n",
    "        fname = chars[i]\n",
    "        \n",
    "        _, final = transform_image('chars/' + fname)\n",
    "        _, final_up = transform_image('chars/' + fname, 'up')\n",
    "        _, final_down = transform_image('chars/' + fname, 'down')\n",
    "        \n",
    "        final = np.reshape(final, (final.shape[0], final.shape[1], 1))\n",
    "        final_up = np.reshape(final_up, (final_up.shape[0], final_up.shape[1], 1))\n",
    "        final_down = np.reshape(final_down, (final_down.shape[0], final_down.shape[1], 1))\n",
    "        \n",
    "        char_images.append(final)\n",
    "        char_images.append(final_up)\n",
    "        char_images.append(final_down)\n",
    "        \n",
    "        for i in range(3):\n",
    "            labels.append(1)\n",
    "        \n",
    "    # Load non-char images\n",
    "    non_char_images = []\n",
    "    for i in tqdm(range(len(non_chars)), desc='Preprocessing non-chars...'):\n",
    "        fname = non_chars[i]\n",
    "\n",
    "        _, final = transform_image('non_chars/' + fname)\n",
    "        _, final_up = transform_image('non_chars/' + fname, 'up')\n",
    "        _, final_down = transform_image('non_chars/' + fname, 'down')\n",
    "        \n",
    "        final = np.reshape(final, (final.shape[0], final.shape[1], 1))\n",
    "        final_up = np.reshape(final_up, (final_up.shape[0], final_up.shape[1], 1))\n",
    "        final_down = np.reshape(final_down, (final_down.shape[0], final_down.shape[1], 1))\n",
    "        \n",
    "        non_char_images.append(final)\n",
    "        non_char_images.append(final_up)\n",
    "        non_char_images.append(final_down)\n",
    "        \n",
    "        for i in range(3):\n",
    "            labels.append(0)\n",
    "        \n",
    "    # Random Shuffling\n",
    "    X = np.array(char_images + non_char_images)\n",
    "    y = np.array(labels)\n",
    "    \n",
    "    s = np.arange(X.shape[0])\n",
    "    np.random.shuffle(s)\n",
    "    \n",
    "    X = X[s]\n",
    "    y = y[s]\n",
    "    \n",
    "    return X, y"
   ]
  },
  {
   "cell_type": "code",
   "execution_count": 10,
   "metadata": {},
   "outputs": [
    {
     "name": "stderr",
     "output_type": "stream",
     "text": [
      "Preprocessing chars...: 100%|██████████| 51/51 [00:44<00:00,  1.22it/s]\n",
      "Preprocessing non-chars...: 100%|██████████| 50/50 [00:40<00:00,  1.26it/s]\n"
     ]
    }
   ],
   "source": [
    "X, y = load_data()"
   ]
  },
  {
   "cell_type": "code",
   "execution_count": 15,
   "metadata": {},
   "outputs": [
    {
     "data": {
      "text/plain": [
       "((303, 118, 130, 1), (303, 2))"
      ]
     },
     "execution_count": 15,
     "metadata": {},
     "output_type": "execute_result"
    }
   ],
   "source": [
    "y = to_categorical(y)\n",
    "X.shape, y.shape"
   ]
  },
  {
   "cell_type": "markdown",
   "metadata": {},
   "source": [
    "**Model Building**\n",
    "\n",
    "Build a ConvNet to make predictions on the data. "
   ]
  },
  {
   "cell_type": "code",
   "execution_count": 16,
   "metadata": {},
   "outputs": [],
   "source": [
    "POOL_SIZE = (2, 2) # These are usually the values\n",
    "KERNEL_SIZE = (3, 3)\n",
    "\n",
    "# Create model\n",
    "model = Sequential()\n",
    "\n",
    "model.add(Conv2D(64, input_shape=(118, 130, 1), \n",
    "                 activation='relu', kernel_size=KERNEL_SIZE))\n",
    "model.add(Conv2D(32, activation='relu', kernel_size=KERNEL_SIZE))\n",
    "model.add(MaxPooling2D(pool_size=POOL_SIZE))\n",
    "model.add(Flatten())\n",
    "model.add(Dense(16, activation='relu'))\n",
    "model.add(Dense(2, activation='softmax'))"
   ]
  },
  {
   "cell_type": "code",
   "execution_count": 17,
   "metadata": {},
   "outputs": [],
   "source": [
    "model.compile(loss='categorical_crossentropy', optimizer='adam', metrics=['accuracy'])"
   ]
  },
  {
   "cell_type": "code",
   "execution_count": 18,
   "metadata": {},
   "outputs": [
    {
     "name": "stdout",
     "output_type": "stream",
     "text": [
      "WARNING:tensorflow:From /home/vedang/.local/lib/python3.6/site-packages/tensorflow/python/ops/math_ops.py:3066: to_int32 (from tensorflow.python.ops.math_ops) is deprecated and will be removed in a future version.\n",
      "Instructions for updating:\n",
      "Use tf.cast instead.\n",
      "Train on 242 samples, validate on 61 samples\n",
      "Epoch 1/1\n",
      "242/242 [==============================] - 20s 83ms/step - loss: 8.0675 - acc: 0.4835 - val_loss: 7.9269 - val_acc: 0.5082\n"
     ]
    },
    {
     "data": {
      "text/plain": [
       "<keras.callbacks.History at 0x7f607e9e4668>"
      ]
     },
     "execution_count": 18,
     "metadata": {},
     "output_type": "execute_result"
    }
   ],
   "source": [
    "model.fit(X, y, batch_size=20, epochs=1, validation_split=0.2, shuffle=True)"
   ]
  }
 ],
 "metadata": {
  "kernelspec": {
   "display_name": "Python 3",
   "language": "python",
   "name": "python3"
  },
  "language_info": {
   "codemirror_mode": {
    "name": "ipython",
    "version": 3
   },
   "file_extension": ".py",
   "mimetype": "text/x-python",
   "name": "python",
   "nbconvert_exporter": "python",
   "pygments_lexer": "ipython3",
   "version": "3.6.7"
  }
 },
 "nbformat": 4,
 "nbformat_minor": 2
}
