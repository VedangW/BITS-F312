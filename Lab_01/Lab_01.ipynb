{
 "cells": [
  {
   "cell_type": "markdown",
   "metadata": {},
   "source": [
    "## Lab 01"
   ]
  },
  {
   "cell_type": "markdown",
   "metadata": {},
   "source": [
    "This lab worksheet consists of 4 questions. It is highly recommended you solve all 4 questions so as to get a good grasp of the concepts introduced in the lab. **Do not** use standard libraries (NumPy, SciPy, etc.) for this exercise.\n",
    "\n",
    "Authors: Vedang Waradpande"
   ]
  },
  {
   "cell_type": "markdown",
   "metadata": {},
   "source": [
    "### Transpose of a matrix\n",
    "\n",
    "Complete the function below to calculate the transpose of a matrix using Python.\n",
    "A matrix can be represented as a list of lists.\n",
    "\n",
    "For e.g.:\n",
    "\n",
    "```\n",
    "1 2 3  Transpose  1 4 7\n",
    "4 5 6  -------->  2 5 8\n",
    "7 8 9             3 6 9\n",
    "```\n",
    "\n",
    "Don't worry about the time complexity of the code. :)"
   ]
  },
  {
   "cell_type": "code",
   "execution_count": 1,
   "metadata": {},
   "outputs": [],
   "source": [
    "def transpose(mat):\n",
    "    \"\"\" Transpose of a matrix using lists \"\"\"\n",
    "    tr = []\n",
    "    \n",
    "    # Populate transpose matrix\n",
    "    for i in range(len(mat)):\n",
    "        temp = []\n",
    "        for j in range(len(mat[i])):\n",
    "            temp.append(mat[i][j])\n",
    "        tr.append(temp)\n",
    "    \n",
    "    # Invert the matrix\n",
    "    for i in range(len(mat)):\n",
    "        for j in range(len(mat[i])):\n",
    "            tr[i][j] = mat[j][i]\n",
    "    \n",
    "    return tr"
   ]
  },
  {
   "cell_type": "code",
   "execution_count": 2,
   "metadata": {},
   "outputs": [
    {
     "data": {
      "text/plain": [
       "[[1, 4, 7], [2, 5, 8], [3, 6, 9]]"
      ]
     },
     "execution_count": 2,
     "metadata": {},
     "output_type": "execute_result"
    }
   ],
   "source": [
    "# Call the transpose function\n",
    "\n",
    "mat = [[1, 2, 3], [4, 5, 6], [7, 8, 9]]\n",
    "transpose(mat)"
   ]
  },
  {
   "cell_type": "markdown",
   "metadata": {},
   "source": [
    "### Loading Data\n",
    "\n",
    "In this question, you have to implement a data structure to hold a dataset. An example of a dataset will look like this:\n",
    "\n",
    "```\n",
    "Index    Col1 Col2 Col3\n",
    "1        1    2    3\n",
    "2        4    5    6\n",
    "3        7    8    9\n",
    "```\n",
    "\n",
    "This is to be stored in a dictionary in the following way:\n",
    "```\n",
    "{'Col1': [1, 4, 7],\n",
    " 'Col2': [4, 5, 6],\n",
    " 'Col3': [7, 8, 9]}\n",
    "```\n",
    " \n",
    "However the data is given to you in several files, where the names of the columns is the name of the file. This is available in the directory called ```data``` in the same directory as this notebook. Read the data from those files and create a dataframe like this.\n",
    "\n",
    "**Do not** name the columns yourself. Use the filenames directly via File I/O as shown in the demo."
   ]
  },
  {
   "cell_type": "code",
   "execution_count": 3,
   "metadata": {},
   "outputs": [],
   "source": [
    "import os\n",
    "\n",
    "def get_powers(x, n):\n",
    "    return [i**n for i in x]\n",
    "\n",
    "def generate_dataset():\n",
    "\n",
    "    x = [0, 1, 2, 3, 4, 5, 6, 7, 8, 9]\n",
    "\n",
    "    fnames = {1: 'first.txt',\n",
    "             2: 'second.txt',\n",
    "             3: 'third.txt',\n",
    "             4: 'fourth.txt',\n",
    "             5: 'fifth.txt',\n",
    "             6: 'sixth.txt'}\n",
    "\n",
    "    if not os.path.exists('data'):\n",
    "        os.makedirs('data')\n",
    "\n",
    "    for i in range(1, 7):\n",
    "        with open('data/' + fnames[i], 'w') as f:\n",
    "            y = get_powers(x, i)\n",
    "            for i in range(len(x)):\n",
    "                f.write(str(x[i]) + \":\" + str(y[i]) + \"\\n\")"
   ]
  },
  {
   "cell_type": "code",
   "execution_count": 4,
   "metadata": {},
   "outputs": [],
   "source": [
    "generate_dataset()"
   ]
  },
  {
   "cell_type": "markdown",
   "metadata": {},
   "source": [
    "Now, complete the function ```populate_sol``` to get the needed dictionary. The ideal output is given in the cell below."
   ]
  },
  {
   "cell_type": "code",
   "execution_count": 5,
   "metadata": {},
   "outputs": [],
   "source": [
    "sol = dict()\n",
    "\n",
    "def populate_sol():\n",
    "    \"\"\" Complete this function to enter the values in sol. \"\"\"\n",
    "    \n",
    "    powers = {'first.txt': 1,\n",
    "             'second.txt': 2,\n",
    "             'third.txt': 3,\n",
    "             'fourth.txt': 4,\n",
    "             'fifth.txt': 5,\n",
    "             'sixth.txt': 6}\n",
    "\n",
    "    for fname in os.listdir('data'):\n",
    "        sol[fname.split('.')[0]] = list()\n",
    "\n",
    "    for fname in os.listdir('data'):\n",
    "        key = fname.split('.')[0]\n",
    "        with open('data/' + fname, 'r') as f:\n",
    "            lines = f.readlines()\n",
    "            for i in range(len(lines)):\n",
    "                sol[key].append(int(lines[i].split(':')[1]))"
   ]
  },
  {
   "cell_type": "code",
   "execution_count": 6,
   "metadata": {},
   "outputs": [
    {
     "data": {
      "text/plain": [
       "{'fifth': [0, 1, 32, 243, 1024, 3125, 7776, 16807, 32768, 59049],\n",
       " 'first': [0, 1, 2, 3, 4, 5, 6, 7, 8, 9],\n",
       " 'fourth': [0, 1, 16, 81, 256, 625, 1296, 2401, 4096, 6561],\n",
       " 'second': [0, 1, 4, 9, 16, 25, 36, 49, 64, 81],\n",
       " 'sixth': [0, 1, 64, 729, 4096, 15625, 46656, 117649, 262144, 531441],\n",
       " 'third': [0, 1, 8, 27, 64, 125, 216, 343, 512, 729]}"
      ]
     },
     "execution_count": 6,
     "metadata": {},
     "output_type": "execute_result"
    }
   ],
   "source": [
    "populate_sol()\n",
    "sol"
   ]
  },
  {
   "cell_type": "markdown",
   "metadata": {},
   "source": [
    "### Forward Propagation of a Perceptron\n",
    "\n",
    "Implement the forward propagation of the perceptron model using only python constructs.\n",
    "\n",
    "Lets start from the top.\n",
    "The datasets you'll deal with will look like this:\n",
    "\n",
    "```\n",
    "Col1  Col2  Col3  y\n",
    "1     2     3     1\n",
    "2     1     4     5\n",
    "...   ...   ...   ...\n",
    "```\n",
    "\n",
    "This can be divided into 2 parts, ```X```(inputs) and ```y```(labels).\n",
    "\n",
    "A perceptron looks something like this:\n",
    "\n",
    "```\n",
    "   x1\n",
    "     \\w1\n",
    "      \\\n",
    "x2 -w2- (a|f(a)) = z\n",
    "      /\n",
    "     /w3\n",
    "   x3\n",
    "``` \n",
    "  \n",
    "The neuron does the following:\n",
    "\n",
    "```\n",
    "a = x1*w1 + x2*w2 + x3*w3 + b   # Weighted Sum\n",
    "z = f(a)                        # Activation Function\n",
    "```\n",
    "\n",
    "Where ```w1, w2, w3``` are the weights, ```x1, x2, x3``` are the inputs and ```b``` is the bias.\n",
    "Further, there is a non-linear activation function, ```f(a)``` that gives an output ```z```.\n",
    "\n",
    "The idea is that ```z``` should be equal to the label ```y``` for that instance. If it is not, then we try to change ```w1, w2, w3``` and ```b``` so that it is equal to it.\n",
    "\n",
    "We will look at this weight refining process in later labs. Here we just focus on calculating the value ```z``` from ```x1, x2, x3```. So, ```w1, w2, w3``` and ```b``` are fixed and defined in the ```Neuron``` class.\n",
    "\n",
    "The non-linear activation function is the ```ReLU``` function which is defined as follows:\n",
    "```\n",
    "            x, if x > 0\n",
    "          /\n",
    "ReLU(x) = \n",
    "          \\\n",
    "            0, otherwise\n",
    "            \n",
    "```\n",
    "\n",
    "Complete the ```relu``` function and the ```Neuron``` class."
   ]
  },
  {
   "cell_type": "code",
   "execution_count": 7,
   "metadata": {},
   "outputs": [],
   "source": [
    "def relu(x):\n",
    "    \"\"\" Implements the ReLU function. \"\"\"\n",
    "    if x > 0:\n",
    "        return x\n",
    "\n",
    "    return 0\n",
    "\n",
    "class Neuron:\n",
    "    \n",
    "    def __init__(self):\n",
    "        \"\"\" Class that depicts a single neuron. \n",
    "            Input dimension of this neuron is 3. \"\"\"\n",
    "\n",
    "        self.bias = -0.2\n",
    "        self.weights = [-0.5, 0.1, 0.7]\n",
    "        self.input_dim = 3\n",
    "    \n",
    "    def propagate(self, X):\n",
    "        \"\"\" For each instance, calculate a and then z.\n",
    "        \n",
    "            Parameters\n",
    "            ----------\n",
    "            X: list of lists\n",
    "                The input instances. \"\"\"\n",
    "        \n",
    "        outputs = list()\n",
    "        for x in X:\n",
    "            z = self._weighted_sum(x)\n",
    "            a = self._activation_function(z)\n",
    "            outputs.append(a)\n",
    "            \n",
    "        return outputs\n",
    "\n",
    "    def _weighted_sum(self, inputs):\n",
    "        \"\"\" Calculate the weighted sum from one instance.\n",
    "            \n",
    "            Parameters\n",
    "            ----------\n",
    "            inputs: list of numbers\n",
    "                e.g. [0.1, 0.2, 0.7]. \"\"\"\n",
    "        \n",
    "        dot_product = 0\n",
    "        for i in range(self.input_dim):\n",
    "            dot_product += self.weights[i]*inputs[i]\n",
    "\n",
    "        dot_product += self.bias\n",
    "\n",
    "        return dot_product\n",
    "\n",
    "    def _activation_function(self, x):\n",
    "        \"\"\" Returns ReLU(x). \"\"\"\n",
    "        return relu(x)"
   ]
  },
  {
   "cell_type": "code",
   "execution_count": 8,
   "metadata": {},
   "outputs": [],
   "source": [
    "inputs = [[0.1, 0.2, 0.7], [0.5, 0.9, 0.1], [0.02, 0.1, 0.7]]"
   ]
  },
  {
   "cell_type": "code",
   "execution_count": 9,
   "metadata": {},
   "outputs": [],
   "source": [
    "neuron = Neuron()\n",
    "outputs = neuron.propagate(inputs)"
   ]
  },
  {
   "cell_type": "code",
   "execution_count": 10,
   "metadata": {},
   "outputs": [
    {
     "data": {
      "text/plain": [
       "[0.25999999999999995, 0, 0.2899999999999999]"
      ]
     },
     "execution_count": 10,
     "metadata": {},
     "output_type": "execute_result"
    }
   ],
   "source": [
    "outputs"
   ]
  },
  {
   "cell_type": "markdown",
   "metadata": {},
   "source": [
    "A perceptron is made up of just one neuron. So we can make a wrapper class over the neuron to model a Perceptron. The following part is just for demonstrating this. Don't change anything.\n",
    "\n",
    "This demonstrates one forward pass of a perceptron. The next step is to calculate the losses using the errors and change weights by backpropagation.\n",
    "\n",
    "We'll be coming back to this code soon!"
   ]
  },
  {
   "cell_type": "code",
   "execution_count": 11,
   "metadata": {},
   "outputs": [],
   "source": [
    "class Perceptron:\n",
    "    \n",
    "    def __init__(self):\n",
    "        self.neuron = Neuron()\n",
    "        \n",
    "    def train(self, X_train, y_train):    \n",
    "        self.X_train = X_train\n",
    "        self.y_train = y_train\n",
    "        \n",
    "        self.errors = []\n",
    "        self.activations = self.forward_propagate()\n",
    "        self.errors = self.calculate_errors()\n",
    "        \n",
    "    def forward_propagate(self):\n",
    "        return self.neuron.propagate(self.X_train)\n",
    "    \n",
    "    def calculate_errors(self):\n",
    "        errors = [self.activations[i] - self.y_train[i] for i in range(len(self.y_train))]\n",
    "        return errors"
   ]
  },
  {
   "cell_type": "code",
   "execution_count": 12,
   "metadata": {},
   "outputs": [
    {
     "data": {
      "text/plain": [
       "[-0.040000000000000036, -0.01, -0.04000000000000009]"
      ]
     },
     "execution_count": 12,
     "metadata": {},
     "output_type": "execute_result"
    }
   ],
   "source": [
    "perceptron = Perceptron()\n",
    "perceptron.train(inputs, [0.3, 0.01, 0.33])\n",
    "perceptron.errors"
   ]
  },
  {
   "cell_type": "markdown",
   "metadata": {},
   "source": [
    "### Binary Search Tree\n",
    "\n",
    "Implement a Binary Search Tree (BST) in Python. The only function you need to implement is BST insertion.\n",
    "\n",
    "**What is a BST?**\n",
    "\n",
    "You have heard of arrays, where elements are stored in a contiguous manner one after the other, and of lists which are dynamic arrays. You might have heard of other data structures like queues and stacks.\n",
    "\n",
    "A BST is a data structure that stores elements in a particular way that makes insertion and search of elements faster than in an array. A BST consists of Nodes. Each node has a left and a right pointer. Values less than the node are stored to its left and higher values are stored to its right. At the top is the root. For e.g.\n",
    "\n",
    "```\n",
    "     5  <- Root\n",
    "    / \\\n",
    "  3     7 <- Internal Node\n",
    " / \\     \\\n",
    "2   4     8 <- Leaf\n",
    "\n",
    "```\n",
    "is a BST.\n",
    "\n",
    "So if we want to insert the element ```6``` in the BST, we start from the root. Value at the root is ```5```, which is lower than ```6```, so we move to the right child of ```5```, i.e., ```7```. This is higher than ```6```, so we move to the left child of ```7```. There is no left child, so we insert ```6``` here. The tree finally looks like this:\n",
    "\n",
    "```\n",
    "     5\n",
    "    / \\\n",
    "  3     7\n",
    " / \\   / \\\n",
    "2   4 6   8\n",
    "\n",
    "```\n",
    "\n",
    "Psuedocode for ```insert```:\n",
    "\n",
    "```\n",
    "Node insert(root, key):\n",
    "\n",
    "    if root is None:\n",
    "        return root\n",
    "\n",
    "    if value at root is greater than key:\n",
    "        insert key in root.left # (recursively call function)\n",
    "\n",
    "    else if value at root is lesser than key:\n",
    "        insert key in root.right # (recursively call function)\n",
    "\n",
    "    return root\n",
    "```\n",
    "\n",
    "Implement the insert function in the class ```BinarySearchTree```."
   ]
  },
  {
   "cell_type": "code",
   "execution_count": 13,
   "metadata": {},
   "outputs": [],
   "source": [
    "class Node:\n",
    "    \n",
    "    def __init__(self, val):\n",
    "        \"\"\" Class representing a node in\n",
    "            any Binary Tree (also a BST).\n",
    "            \n",
    "            Parameters\n",
    "            ----------\n",
    "            val: int\n",
    "                Value at Node.\n",
    "                \n",
    "            left and right should point at\n",
    "            instances of the Node class. \"\"\"\n",
    "        \n",
    "        self.val = val\n",
    "        self.left = None\n",
    "        self.right = None\n",
    "        \n",
    "    @property\n",
    "    def val(self):\n",
    "        return self.__val\n",
    "    \n",
    "    @val.setter\n",
    "    def val(self, x):\n",
    "        self.__val = x\n",
    "    \n",
    "    @property\n",
    "    def left(self):\n",
    "        return self.__left\n",
    "    \n",
    "    @left.setter\n",
    "    def left(self, l):\n",
    "        self.__left = l\n",
    "        \n",
    "    @property\n",
    "    def right(self):\n",
    "        return self.__right\n",
    "    \n",
    "    @right.setter\n",
    "    def right(self, r):\n",
    "        self.__right = r"
   ]
  },
  {
   "cell_type": "code",
   "execution_count": 14,
   "metadata": {},
   "outputs": [],
   "source": [
    "class BinarySearchTree:\n",
    "    \n",
    "    def __init__(self):\n",
    "        \"\"\" Class to implement a BST. \"\"\"\n",
    "        self.root = None\n",
    "        \n",
    "    def insert(self, key):\n",
    "        \"\"\" Wrapper around _insert. \"\"\"\n",
    "        self.root = self._insert(self.root, key)\n",
    "        \n",
    "    def _insert(self, root, key):\n",
    "        \"\"\" Function to insert key in the BST\n",
    "            given a root Node.\n",
    "            \n",
    "            Parameters\n",
    "            ----------\n",
    "            root: Node\n",
    "                The root Node.\n",
    "            key: int\n",
    "                Value to insert. \"\"\"\n",
    "        \n",
    "        if root is None:\n",
    "            return Node(key)\n",
    "        \n",
    "        if root.val > key:\n",
    "            root.left = self._insert(root.left, key)\n",
    "        elif root.val < key:\n",
    "            root.right = self._insert(root.right, key)\n",
    "            \n",
    "        return root\n",
    "    \n",
    "    def inorder(self):\n",
    "        \"\"\" Wrapper around _inorder. \"\"\"\n",
    "        self._inorder(self.root)\n",
    "    \n",
    "    def _inorder(self, root):\n",
    "        \"\"\" Printing the inorder of BST.\n",
    "        \n",
    "            Parameters\n",
    "            ----------\n",
    "            root: Node\n",
    "                The root Node. \"\"\"\n",
    "        \n",
    "        if root:\n",
    "            self._inorder(root.left)\n",
    "            print (\"%d\" % root.val, end=' ')\n",
    "            self._inorder(root.right)"
   ]
  },
  {
   "cell_type": "code",
   "execution_count": 15,
   "metadata": {},
   "outputs": [],
   "source": [
    "arr = [5, 3, 7, 4, 2, 1, 8, 6]\n",
    "\n",
    "# Create a new BST\n",
    "bst = BinarySearchTree()\n",
    "\n",
    "# Insert elements from arr in BST\n",
    "for element in arr:\n",
    "    bst.insert(element)"
   ]
  },
  {
   "cell_type": "markdown",
   "metadata": {},
   "source": [
    "How do we ensure that the elements are inserted in the correct order? We print the inorder traversal of the tree. \n",
    "\n",
    "Binary Search Trees have a property that the inorder traversal is always sorted in the ascending manner! The ```inorder``` function has already been implemented for you. Just run the cell below and check if the output is a sorted array."
   ]
  },
  {
   "cell_type": "code",
   "execution_count": 16,
   "metadata": {},
   "outputs": [
    {
     "name": "stdout",
     "output_type": "stream",
     "text": [
      "1 2 3 4 5 6 7 8 "
     ]
    }
   ],
   "source": [
    "bst.inorder()"
   ]
  }
 ],
 "metadata": {
  "kernelspec": {
   "display_name": "Python 3",
   "language": "python",
   "name": "python3"
  },
  "language_info": {
   "codemirror_mode": {
    "name": "ipython",
    "version": 3
   },
   "file_extension": ".py",
   "mimetype": "text/x-python",
   "name": "python",
   "nbconvert_exporter": "python",
   "pygments_lexer": "ipython3",
   "version": "3.6.6"
  }
 },
 "nbformat": 4,
 "nbformat_minor": 2
}
